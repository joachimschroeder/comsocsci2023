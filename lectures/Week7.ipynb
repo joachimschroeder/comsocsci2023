{
 "cells": [
  {
   "cell_type": "markdown",
   "metadata": {},
   "source": [
    "# Overview\n",
    "\n",
    "We're now switching focus away from the Network Science (for a little bit), beginning to think about _Language Processing_ instead. In other words, today will be all about learning to parse and make sense of textual data. This ties in nicely with our work on the network of Computational Social Scientists, because papers naturally contain text.\n",
    "\n",
    "We've looked at the network so far - now, let's see if we can include the text. Today is about \n",
    "\n",
    "* Part 1 - Installing the _natural language toolkit_ (NLTK) package and learning the basics of how it works (Chapter 1)\n",
    "* Part 2 -  Figuring out how to make NLTK to work with real world data.\n",
    "* Part 3 - Apply some of the concepts that you have learned to study the abstract dataset"
   ]
  },
  {
   "cell_type": "markdown",
   "metadata": {},
   "source": [
    "> **_Video Lecture_**. [Intro to Natural Language processing](https://www.youtube.com/watch?v=Ph0EHmFT3n4). Today is all about working with NLTK, so not much lecturing - we will start with a perspective on text analysis by Sune (you will hear him talking about Wikipedia data here and there. Everything he sais applies to other textual data as well!)"
   ]
  },
  {
   "cell_type": "markdown",
   "metadata": {},
   "source": [
    "#  Part 1 : Installing and the basics"
   ]
  },
  {
   "cell_type": "code",
   "execution_count": 1,
   "metadata": {},
   "outputs": [
    {
     "data": {
      "image/jpeg": "[encoded data removed]",
      "text/html": [
       "\n",
       "        <iframe\n",
       "            width=\"800\"\n",
       "            height=\"450\"\n",
       "            src=\"https://www.youtube.com/embed/Ph0EHmFT3n4\"\n",
       "            frameborder=\"0\"\n",
       "            allowfullscreen\n",
       "            \n",
       "        ></iframe>\n",
       "        "
      ],
      "text/plain": [
       "<IPython.lib.display.YouTubeVideo at 0x7ff6605ded30>"
      ]
     },
     "execution_count": 1,
     "metadata": {},
     "output_type": "execute_result"
    }
   ],
   "source": [
    "from IPython.display import YouTubeVideo\n",
    "YouTubeVideo(\"Ph0EHmFT3n4\",width=800, height=450)"
   ]
  },
  {
   "cell_type": "markdown",
   "metadata": {},
   "source": [
    "\n",
    "> _Reading_\n",
    "> The reading for today is Natural Language Processing with Python (NLPP) Chapter 1, Sections 1, 2, 3\\. [It's free online](http://www.nltk.org/book/). \n"
   ]
  },
  {
   "cell_type": "markdown",
   "metadata": {},
   "source": [
    "> *Exercises*: NLPP Chapter 1\\.\n",
    "> \n",
    "> * First, install `nltk` if it isn't installed already (there are some tips below that I recommend checking out before doing installing)\n",
    "> * Second, work through chapter 1. The book is set up as a kind of tutorial with lots of examples for you to work through. I recommend you read the text with an open IPython Notebook and type out the examples that you see. ***It becomes much more fun if you to add a few variations and see what happens***. Some of those examples might very well be due as assignments (see below the install tips), so those ones should definitely be in a `notebook`. \n",
    " "
   ]
  },
  {
   "cell_type": "markdown",
   "metadata": {},
   "source": [
    "### NLTK Install tips \n",
    "\n",
    "Check to see if `nltk` is installed on your system by typing `import nltk` in a `notebook`. If it's not already installed, install it as part of _Anaconda_ by typing \n",
    "\n",
    "     conda install nltk \n",
    "\n",
    "at the command prompt. If you don't have them, you can download the various corpora using a command-line version of the downloader that runs in Python notebooks: In the iPython notebook, run the code \n",
    "\n",
    "     import nltk\n",
    "     nltk.download()\n",
    "\n",
    "Now you can hit `d` to download, then type \"book\" to fetch the collection needed today's `nltk` session. Now that everything is up and running, let's get to the actual exercises."
   ]
  },
  {
   "cell_type": "markdown",
   "metadata": {},
   "source": [
    "> Exercises: NLPP Chapter 1 (the stuff that might be due in an upcoming assignment).\n",
    "> \n",
    "> The following exercises from Chapter 1 are what might be due in an assignment later on.\n",
    ">\n",
    "> * Try out the `concordance` method, using another text and a word of your own choosing.\n",
    "> * Also try out the `similar` and `common_context` methods for a few of your own examples.\n",
    "> * Create your own version of a dispersion plot (\"your own version\" means another text and different word).\n",
    "> * Explain in your own words what aspect of language _lexical diversity_ describes. \n",
    "> * Create frequency distributions for `text2`, including the cumulative frequency plot for the 75 most common words."
   ]
  },
  {
   "cell_type": "code",
   "execution_count": 45,
   "metadata": {},
   "outputs": [
    {
     "name": "stdout",
     "output_type": "stream",
     "text": [
      "showing info https://raw.githubusercontent.com/nltk/nltk_data/gh-pages/index.xml\n"
     ]
    },
    {
     "data": {
      "text/plain": [
       "True"
      ]
     },
     "execution_count": 45,
     "metadata": {},
     "output_type": "execute_result"
    }
   ],
   "source": [
    "import nltk\n",
    "nltk.download()"
   ]
  },
  {
   "cell_type": "code",
   "execution_count": 46,
   "metadata": {},
   "outputs": [
    {
     "name": "stdout",
     "output_type": "stream",
     "text": [
      "*** Introductory Examples for the NLTK Book ***\n",
      "Loading text1, ..., text9 and sent1, ..., sent9\n",
      "Type the name of the text or sentence to view it.\n",
      "Type: 'texts()' or 'sents()' to list the materials.\n",
      "text1: Moby Dick by Herman Melville 1851\n",
      "text2: Sense and Sensibility by Jane Austen 1811\n",
      "text3: The Book of Genesis\n",
      "text4: Inaugural Address Corpus\n",
      "text5: Chat Corpus\n",
      "text6: Monty Python and the Holy Grail\n",
      "text7: Wall Street Journal\n",
      "text8: Personals Corpus\n",
      "text9: The Man Who Was Thursday by G . K . Chesterton 1908\n"
     ]
    }
   ],
   "source": [
    "from nltk.book import *"
   ]
  },
  {
   "attachments": {},
   "cell_type": "markdown",
   "metadata": {},
   "source": [
    "* Try out the `concordance` method, using another text and a word of your own choosing."
   ]
  },
  {
   "cell_type": "code",
   "execution_count": 48,
   "metadata": {},
   "outputs": [
    {
     "name": "stdout",
     "output_type": "stream",
     "text": [
      "Displaying 25 of 79 matches:\n",
      ", however , and , as a mark of his affection for the three girls , he left them\n",
      "t . It was very well known that no affection was ever supposed to exist between\n",
      "deration of politeness or maternal affection on the side of the former , the tw\n",
      "d the suspicion -- the hope of his affection for me may warrant , without impru\n",
      "hich forbade the indulgence of his affection . She knew that his mother neither\n",
      "rd she gave one with still greater affection . Though her late conversation wit\n",
      " can never hope to feel or inspire affection again , and if her home be uncomfo\n",
      "m of the sense , elegance , mutual affection , and domestic comfort of the fami\n",
      ", and which recommended him to her affection beyond every thing else . His soci\n",
      "ween the parties might forward the affection of Mr . Willoughby , an equally st\n",
      " the most pointed assurance of her affection . Elinor could not be surprised at\n",
      "he natural consequence of a strong affection in a young and ardent mind . This \n",
      " opinion . But by an appeal to her affection for her mother , by representing t\n",
      " every alteration of a place which affection had established as perfect with hi\n",
      "e will always have one claim of my affection , which no other can possibly shar\n",
      "f the evening declared at once his affection and happiness . \" Shall we see you\n",
      "ause he took leave of us with less affection than his usual behaviour has shewn\n",
      "ness .\" \" I want no proof of their affection ,\" said Elinor ; \" but of their en\n",
      "onths , without telling her of his affection ;-- that they should part without \n",
      "ould be the natural result of your affection for her . She used to be all unres\n",
      "distinguished Elinor by no mark of affection . Marianne saw and listened with i\n",
      "th no inclination for expense , no affection for strangers , no profession , an\n",
      "till distinguished her by the same affection which once she had felt no doubt o\n",
      "al of her confidence in Edward ' s affection , to the remembrance of every mark\n",
      " was made ? Had he never owned his affection to yourself ?\" \" Oh , no ; but if \n"
     ]
    }
   ],
   "source": [
    "text2.concordance(\"affection\")"
   ]
  },
  {
   "attachments": {},
   "cell_type": "markdown",
   "metadata": {},
   "source": [
    "* Also try out the `similar` and `common_context` methods for a few of your own examples."
   ]
  },
  {
   "cell_type": "code",
   "execution_count": 49,
   "metadata": {},
   "outputs": [
    {
     "name": "stdout",
     "output_type": "stream",
     "text": [
      "attention time regard mother love heart opinion sister wishes wife\n",
      "arrival marianne kindness family it marriage sisters sake conduct mind\n"
     ]
    }
   ],
   "source": [
    "text2.similar(\"affection\")"
   ]
  },
  {
   "cell_type": "code",
   "execution_count": 56,
   "metadata": {},
   "outputs": [
    {
     "name": "stdout",
     "output_type": "stream",
     "text": [
      "he_,\n"
     ]
    }
   ],
   "source": [
    "text3.common_contexts([\"lived\", \"died\"])"
   ]
  },
  {
   "cell_type": "markdown",
   "metadata": {},
   "source": [
    "* Create your own version of a dispersion plot (\"your own version\" means another text and different word)."
   ]
  },
  {
   "cell_type": "code",
   "execution_count": 58,
   "metadata": {},
   "outputs": [
    {
     "data": {
      "image/png": "[encoded data removed]",
      "text/plain": [
       "<Figure size 640x480 with 1 Axes>"
      ]
     },
     "metadata": {},
     "output_type": "display_data"
    }
   ],
   "source": [
    "text6.dispersion_plot([\"Sir\", \"Robin\", \"Arthur\", \"Galahad\", \"Bedevere\", \"Knight\", \"Holy\", \"Grail\"])"
   ]
  },
  {
   "attachments": {},
   "cell_type": "markdown",
   "metadata": {},
   "source": [
    "* Explain in your own words what aspect of language _lexical diversity_ describes.\n",
    "\n",
    "Lexical diversity describes the ratio between the number of different words used in a text compared to the total number of total words. Take for example the lyrics to the hit song \"Around the world\" from Daft Punk that has 3 distinct words in being \"Around\", \"the\", and \"World\". In the radio edit, these 3 words are spoken 80 times making the lexical diversity very low compared to the answer to this question for example."
   ]
  },
  {
   "attachments": {},
   "cell_type": "markdown",
   "metadata": {},
   "source": [
    "* Create frequency distributions for `text2`, including the cumulative frequency plot for the 75 most common words."
   ]
  },
  {
   "cell_type": "code",
   "execution_count": 65,
   "metadata": {},
   "outputs": [
    {
     "data": {
      "image/png": "[encoded data removed]",
      "text/plain": [
       "<Figure size 1500x1000 with 1 Axes>"
      ]
     },
     "metadata": {},
     "output_type": "display_data"
    },
    {
     "data": {
      "text/plain": [
       "<AxesSubplot: xlabel='Samples', ylabel='Cumulative Counts'>"
      ]
     },
     "execution_count": 65,
     "metadata": {},
     "output_type": "execute_result"
    }
   ],
   "source": [
    "import matplotlib.pyplot as plt\n",
    "plt.rcParams['figure.figsize'] = [15, 10]\n",
    "fdist = FreqDist(text1)\n",
    "fdist.plot(75, cumulative=True)\n",
    "\n",
    "\n"
   ]
  },
  {
   "cell_type": "markdown",
   "metadata": {},
   "source": [
    "# Part 2 - Processing real text (from out on the inter-webs)\n",
    "\n",
    "Ok. So Chapter 3 in NLPP is all about working with text from the real world. Getting text from this internet, cleaning it, tokenizing, modifying (e.g. stemming, converting to lower case, etc) to get the text in shape to work with the NLTK tools you've already learned about.\n",
    "> \n",
    "> **Video lecture**: Short overview of chapter 3 + a few words about kinds of language processing that we don't address in this class. \n",
    "> "
   ]
  },
  {
   "cell_type": "code",
   "execution_count": 2,
   "metadata": {},
   "outputs": [
    {
     "data": {
      "image/jpeg": "[encoded data removed]",
      "text/html": [
       "\n",
       "        <iframe\n",
       "            width=\"800\"\n",
       "            height=\"450\"\n",
       "            src=\"https://www.youtube.com/embed/Rwakh-HXPJk\"\n",
       "            frameborder=\"0\"\n",
       "            allowfullscreen\n",
       "            \n",
       "        ></iframe>\n",
       "        "
      ],
      "text/plain": [
       "<IPython.lib.display.YouTubeVideo at 0x7ff660604b80>"
      ]
     },
     "execution_count": 2,
     "metadata": {},
     "output_type": "execute_result"
    }
   ],
   "source": [
    "from IPython.display import YouTubeVideo\n",
    "YouTubeVideo(\"Rwakh-HXPJk\",width=800, height=450)"
   ]
  },
  {
   "cell_type": "markdown",
   "metadata": {},
   "source": [
    "> *Reading*: NLPP Chapter 3.1, 3.2, 3.3, 3.4, 3.5, 3.6, 3.7, 3.9, and 3.10\\. It's not important that you go in depth with everything here - the key thing is that you *know that Chapter 3 of this book exists*, and that it's a great place to return to if you're ever in need of an explanation on  topics that you forget as soon as you stop using them (and don't worry, I forget about those things too)."
   ]
  },
  {
   "cell_type": "markdown",
   "metadata": {},
   "source": [
    "\n",
    "# Part 3 - Putting things into practice with the abstract dataset\n"
   ]
  },
  {
   "cell_type": "markdown",
   "metadata": {},
   "source": [
    "## Prelude to Exercise 1: Some theory on the Zipf's law. \n",
    "\n",
    "\n",
    "**Zipf's Law:** Let $f(w)$ be the frequency of a word w in free text. Suppose that all the words of a text are ranked according to their frequency, with the most frequent word first. The [Zipf's law](https://en.wikipedia.org/wiki/Zipf%27s_law) states that the frequency of a word type is inversely proportional to its rank (i.e. f × r = k, for some constant k). For example, the 50th most common word type should occur three times as frequently as the 150th most common word type. \n",
    "\n",
    "\n",
    "> _Reading_\n",
    "> Skim through the Wikipedia page on the [Zipf's law](https://en.wikipedia.org/wiki/Zipf%27s_law)"
   ]
  },
  {
   "cell_type": "markdown",
   "metadata": {},
   "source": [
    "> **Exercise 1: Tokenization and Zipf's law**.\n",
    "> Consider the list of abstracts of Computational Social Science papers. You shall take the paperIds of Computational Social Science papers (from Week 4), then go back to your *abstract* dataframe (Week 2) to get the abstracts only for those. \n",
    "> \n",
    ">\n",
    "> 1. Tokenize the __text__ of each abstract. Create a column __tokens__ in your dataframe containing the tokens. Remember the bullets below for success.\n",
    ">   * If you dont' know what _tokenization_ means, go back and read Chapter 3 again. **The advice to go back and check Chapter 3 is valid for every cleaning step below**.\n",
    ">   * Exclude punctuation.\n",
    ">   * Exclude URLs\n",
    ">   * Exclude stop words (if you don't know what stop words are, go back and read NLPP1e again).\n",
    ">   * Exclude numbers.\n",
    ">   * Set everything to lower case.\n",
    ">   * **Note** that none of the above has to be perfect. And there's some room for improvisation. You can try using stemming. Choices like that are up to you.\n",
    "> 2. Create a single list that includes the concatenation of all the __tokens__ (from all abstracts).  \n",
    "> 3. What are the top 50 most common tokens in your corpus?  \n",
    "> 4. Write a function to process your list of tokens and plot word frequency against word rank using. Do you confirm Zipf's law? (Hint: it helps to use a logarithmic scale). What is going on at the extreme ends of the plotted line?\n",
    "> 5. Generate random text, e.g., using random.choice(\"abcdefg \"), taking care to include the space character. You will need to import random first. Use the string concatenation operator to accumulate characters into a (very) long string. Then tokenize this string, and generate the Zipf plot as before, and compare the two plots. What do you make of Zipf's Law in the light of this?\n"
   ]
  },
  {
   "cell_type": "code",
   "execution_count": 37,
   "metadata": {},
   "outputs": [
    {
     "name": "stderr",
     "output_type": "stream",
     "text": [
      "/var/folders/zb/r3t36n8x4yxdbb4wy91dghwc0000gn/T/ipykernel_25757/1847943667.py:2: DtypeWarning: Columns (0,1) have mixed types. Specify dtype option on import or set low_memory=False.\n",
      "  abstract_df = pd.read_csv('abstract_df.csv')\n"
     ]
    }
   ],
   "source": [
    "import pandas as pd\n",
    "abstract_df = pd.read_csv('abstract_df.csv')"
   ]
  },
  {
   "cell_type": "code",
   "execution_count": 38,
   "metadata": {},
   "outputs": [
    {
     "data": {
      "text/html": [
       "<div>\n",
       "<style scoped>\n",
       "    .dataframe tbody tr th:only-of-type {\n",
       "        vertical-align: middle;\n",
       "    }\n",
       "\n",
       "    .dataframe tbody tr th {\n",
       "        vertical-align: top;\n",
       "    }\n",
       "\n",
       "    .dataframe thead th {\n",
       "        text-align: right;\n",
       "    }\n",
       "</style>\n",
       "<table border=\"1\" class=\"dataframe\">\n",
       "  <thead>\n",
       "    <tr style=\"text-align: right;\">\n",
       "      <th></th>\n",
       "      <th>paperId</th>\n",
       "      <th>abstract</th>\n",
       "    </tr>\n",
       "  </thead>\n",
       "  <tbody>\n",
       "    <tr>\n",
       "      <th>0</th>\n",
       "      <td>825f85375bba977cd3ad78ac1ba22c7fae5609fb</td>\n",
       "      <td>The genomes of Streptomyces species are diffic...</td>\n",
       "    </tr>\n",
       "    <tr>\n",
       "      <th>1</th>\n",
       "      <td>ada32be518f395002d90c52befabcd8735128192</td>\n",
       "      <td>ABSTRACT Their biochemical versatility and bio...</td>\n",
       "    </tr>\n",
       "    <tr>\n",
       "      <th>2</th>\n",
       "      <td>1c122d5d9f19a1acaf745e4540814314d3c34498</td>\n",
       "      <td>We describe a method to identify relevant subs...</td>\n",
       "    </tr>\n",
       "    <tr>\n",
       "      <th>3</th>\n",
       "      <td>defb884bb47a354c12279f5e91aaa391fcedc87b</td>\n",
       "      <td>Complex systems often show forms of organisati...</td>\n",
       "    </tr>\n",
       "    <tr>\n",
       "      <th>4</th>\n",
       "      <td>abf997acfc63e2fef8795b6a075cc5e4d1cde9f9</td>\n",
       "      <td>In this paper a new model of growing and divid...</td>\n",
       "    </tr>\n",
       "  </tbody>\n",
       "</table>\n",
       "</div>"
      ],
      "text/plain": [
       "                                    paperId  \\\n",
       "0  825f85375bba977cd3ad78ac1ba22c7fae5609fb   \n",
       "1  ada32be518f395002d90c52befabcd8735128192   \n",
       "2  1c122d5d9f19a1acaf745e4540814314d3c34498   \n",
       "3  defb884bb47a354c12279f5e91aaa391fcedc87b   \n",
       "4  abf997acfc63e2fef8795b6a075cc5e4d1cde9f9   \n",
       "\n",
       "                                            abstract  \n",
       "0  The genomes of Streptomyces species are diffic...  \n",
       "1  ABSTRACT Their biochemical versatility and bio...  \n",
       "2  We describe a method to identify relevant subs...  \n",
       "3  Complex systems often show forms of organisati...  \n",
       "4  In this paper a new model of growing and divid...  "
      ]
     },
     "execution_count": 38,
     "metadata": {},
     "output_type": "execute_result"
    }
   ],
   "source": [
    "abstract_df.dropna(inplace=True)\n",
    "abstract_df.reset_index(inplace=True, drop=True)\n",
    "abstract_df.head()\n"
   ]
  },
  {
   "cell_type": "code",
   "execution_count": 40,
   "metadata": {},
   "outputs": [],
   "source": [
    "import pickle\n",
    "filtered_abstracts = abstract_df.copy()\n",
    "with open('filtered_abstracts.pickle', 'wb') as f:\n",
    "    pickle.dump(filtered_abstracts, f)\n"
   ]
  },
  {
   "cell_type": "code",
   "execution_count": 36,
   "metadata": {},
   "outputs": [
    {
     "data": {
      "text/html": [
       "<div>\n",
       "<style scoped>\n",
       "    .dataframe tbody tr th:only-of-type {\n",
       "        vertical-align: middle;\n",
       "    }\n",
       "\n",
       "    .dataframe tbody tr th {\n",
       "        vertical-align: top;\n",
       "    }\n",
       "\n",
       "    .dataframe thead th {\n",
       "        text-align: right;\n",
       "    }\n",
       "</style>\n",
       "<table border=\"1\" class=\"dataframe\">\n",
       "  <thead>\n",
       "    <tr style=\"text-align: right;\">\n",
       "      <th></th>\n",
       "      <th>paperId</th>\n",
       "      <th>title</th>\n",
       "      <th>year</th>\n",
       "      <th>citationCount</th>\n",
       "      <th>externalIds.DOI</th>\n",
       "      <th>keywords</th>\n",
       "      <th>authorIds</th>\n",
       "      <th>author_fields</th>\n",
       "    </tr>\n",
       "  </thead>\n",
       "  <tbody>\n",
       "    <tr>\n",
       "      <th>0</th>\n",
       "      <td>723b30edce2a7a46626a38c8f8cac929131b9ed4</td>\n",
       "      <td>Daemo: A Self-Governed Crowdsourcing Marketplace</td>\n",
       "      <td>2015</td>\n",
       "      <td>48.0</td>\n",
       "      <td>10.1145/2815585.2815739</td>\n",
       "      <td>['Computer Science', 'Business']</td>\n",
       "      <td>['1409288721', '1844994', '2064565683', '14091...</td>\n",
       "      <td>['Computer Science', 'Computer Science', 'Comp...</td>\n",
       "    </tr>\n",
       "    <tr>\n",
       "      <th>1</th>\n",
       "      <td>e1be3a91cebc517117364ed06a0786a83b47657f</td>\n",
       "      <td>Proceedings of the ACM Web Science Conference</td>\n",
       "      <td>2015</td>\n",
       "      <td>3.0</td>\n",
       "      <td>10.1145/2786451</td>\n",
       "      <td>['Computer Science']</td>\n",
       "      <td>['2020931', '1708123', '3448243']</td>\n",
       "      <td>['Sociology', 'Computer Science', 'Computer Sc...</td>\n",
       "    </tr>\n",
       "    <tr>\n",
       "      <th>2</th>\n",
       "      <td>bbff76c64bfc26befee4b6ebcd74a34bf8ea0d6d</td>\n",
       "      <td>Campaign Management Under Approval-Driven Voti...</td>\n",
       "      <td>2015</td>\n",
       "      <td>0.0</td>\n",
       "      <td>10.1007/s00453-015-0064-0</td>\n",
       "      <td>['Computer Science']</td>\n",
       "      <td>['1771983', '1729566', '2469517']</td>\n",
       "      <td>['Mathematics', 'Economics', 'Economics']</td>\n",
       "    </tr>\n",
       "    <tr>\n",
       "      <th>3</th>\n",
       "      <td>42013f7c8bcf51fefb5ebef10ddd071f941eb6c3</td>\n",
       "      <td>Robotics Narratives and Networks [History]</td>\n",
       "      <td>2015</td>\n",
       "      <td>5.0</td>\n",
       "      <td>10.1109/MRA.2014.2385564</td>\n",
       "      <td>['Education']</td>\n",
       "      <td>['3340774', '2724679', '1780030', '1746316']</td>\n",
       "      <td>['Sociology', 'Political Science', 'Computer S...</td>\n",
       "    </tr>\n",
       "    <tr>\n",
       "      <th>4</th>\n",
       "      <td>918326f08d707327eba535f75050e61839726a9d</td>\n",
       "      <td>The EChO science case</td>\n",
       "      <td>2015</td>\n",
       "      <td>0.0</td>\n",
       "      <td>10.1007/s10686-015-9484-8</td>\n",
       "      <td>['Physics', 'Geology']</td>\n",
       "      <td>['144250759', '100616984', '103246749']</td>\n",
       "      <td>['Physics', 'Economics', 'Physics']</td>\n",
       "    </tr>\n",
       "  </tbody>\n",
       "</table>\n",
       "</div>"
      ],
      "text/plain": [
       "                                    paperId  \\\n",
       "0  723b30edce2a7a46626a38c8f8cac929131b9ed4   \n",
       "1  e1be3a91cebc517117364ed06a0786a83b47657f   \n",
       "2  bbff76c64bfc26befee4b6ebcd74a34bf8ea0d6d   \n",
       "3  42013f7c8bcf51fefb5ebef10ddd071f941eb6c3   \n",
       "4  918326f08d707327eba535f75050e61839726a9d   \n",
       "\n",
       "                                               title  year  citationCount  \\\n",
       "0   Daemo: A Self-Governed Crowdsourcing Marketplace  2015           48.0   \n",
       "1      Proceedings of the ACM Web Science Conference  2015            3.0   \n",
       "2  Campaign Management Under Approval-Driven Voti...  2015            0.0   \n",
       "3         Robotics Narratives and Networks [History]  2015            5.0   \n",
       "4                              The EChO science case  2015            0.0   \n",
       "\n",
       "             externalIds.DOI                          keywords  \\\n",
       "0    10.1145/2815585.2815739  ['Computer Science', 'Business']   \n",
       "1            10.1145/2786451              ['Computer Science']   \n",
       "2  10.1007/s00453-015-0064-0              ['Computer Science']   \n",
       "3   10.1109/MRA.2014.2385564                     ['Education']   \n",
       "4  10.1007/s10686-015-9484-8            ['Physics', 'Geology']   \n",
       "\n",
       "                                           authorIds  \\\n",
       "0  ['1409288721', '1844994', '2064565683', '14091...   \n",
       "1                  ['2020931', '1708123', '3448243']   \n",
       "2                  ['1771983', '1729566', '2469517']   \n",
       "3       ['3340774', '2724679', '1780030', '1746316']   \n",
       "4            ['144250759', '100616984', '103246749']   \n",
       "\n",
       "                                       author_fields  \n",
       "0  ['Computer Science', 'Computer Science', 'Comp...  \n",
       "1  ['Sociology', 'Computer Science', 'Computer Sc...  \n",
       "2          ['Mathematics', 'Economics', 'Economics']  \n",
       "3  ['Sociology', 'Political Science', 'Computer S...  \n",
       "4                ['Physics', 'Economics', 'Physics']  "
      ]
     },
     "execution_count": 36,
     "metadata": {},
     "output_type": "execute_result"
    }
   ],
   "source": [
    "papers = pd.read_csv('filtered_df.csv')\n",
    "with open('filtered_papers_df.pickle', 'wb') as f:\n",
    "    pickle.dump(papers, f)\n",
    "    \n",
    "papers.head()"
   ]
  },
  {
   "cell_type": "code",
   "execution_count": 43,
   "metadata": {},
   "outputs": [],
   "source": [
    "ids = papers['paperId'].values\n",
    "filtered_abstracts = abstract_df[abstract_df['paperId'].isin(ids)]\n",
    "filtered_abstracts.reset_index(inplace=True, drop=True)\n",
    "filtered_abstracts.head()\n",
    "with open('filtered_abstracts.pickle', 'wb') as f:\n",
    "    pickle.dump(filtered_abstracts, f)"
   ]
  },
  {
   "cell_type": "code",
   "execution_count": 44,
   "metadata": {},
   "outputs": [
    {
     "data": {
      "text/html": [
       "<div>\n",
       "<style scoped>\n",
       "    .dataframe tbody tr th:only-of-type {\n",
       "        vertical-align: middle;\n",
       "    }\n",
       "\n",
       "    .dataframe tbody tr th {\n",
       "        vertical-align: top;\n",
       "    }\n",
       "\n",
       "    .dataframe thead th {\n",
       "        text-align: right;\n",
       "    }\n",
       "</style>\n",
       "<table border=\"1\" class=\"dataframe\">\n",
       "  <thead>\n",
       "    <tr style=\"text-align: right;\">\n",
       "      <th></th>\n",
       "      <th>paperId</th>\n",
       "      <th>abstract</th>\n",
       "    </tr>\n",
       "  </thead>\n",
       "  <tbody>\n",
       "    <tr>\n",
       "      <th>0</th>\n",
       "      <td>167273526caeae8439b2c08630f984b758f76dab</td>\n",
       "      <td>There is growing concern about \"algorithmic bi...</td>\n",
       "    </tr>\n",
       "    <tr>\n",
       "      <th>1</th>\n",
       "      <td>cb3d482fa29075ed3305f11016056661c0d999e0</td>\n",
       "      <td>Preventing discrimination requires that we hav...</td>\n",
       "    </tr>\n",
       "    <tr>\n",
       "      <th>2</th>\n",
       "      <td>e73859fdfb9c2986fa17fc8d7e596514487cdb8b</td>\n",
       "      <td>There are widespread concerns that the growing...</td>\n",
       "    </tr>\n",
       "    <tr>\n",
       "      <th>3</th>\n",
       "      <td>59138f6c6cc957c03532088386cd15079c6d17af</td>\n",
       "      <td>The law forbids discrimination. But the ambigu...</td>\n",
       "    </tr>\n",
       "    <tr>\n",
       "      <th>4</th>\n",
       "      <td>47c3d413056fe8538cb5ce2d6adc860e70062bf6</td>\n",
       "      <td>Evaluating whether machines improve on human p...</td>\n",
       "    </tr>\n",
       "    <tr>\n",
       "      <th>...</th>\n",
       "      <td>...</td>\n",
       "      <td>...</td>\n",
       "    </tr>\n",
       "    <tr>\n",
       "      <th>891</th>\n",
       "      <td>a22d3cc6b4a6bf48b7235d921055fb1f6ee65f79</td>\n",
       "      <td>With an increasing number of people, especiall...</td>\n",
       "    </tr>\n",
       "    <tr>\n",
       "      <th>892</th>\n",
       "      <td>d0e81e438e94aa12708a642e71ba6ad77ba7fe1d</td>\n",
       "      <td>Lack of regular physical or economic access to...</td>\n",
       "    </tr>\n",
       "    <tr>\n",
       "      <th>893</th>\n",
       "      <td>c959b60afa302d960e3769996baf06448e708802</td>\n",
       "      <td>The integration of automotive communications i...</td>\n",
       "    </tr>\n",
       "    <tr>\n",
       "      <th>894</th>\n",
       "      <td>63d6fd486101b559d337871f8883effc7cbfceb6</td>\n",
       "      <td>The conditions in which we are born, grow, liv...</td>\n",
       "    </tr>\n",
       "    <tr>\n",
       "      <th>895</th>\n",
       "      <td>4f2ce2be2f01a724e68858d48f8d3ed99a638738</td>\n",
       "      <td>Significance Hierarchies structure the lives o...</td>\n",
       "    </tr>\n",
       "  </tbody>\n",
       "</table>\n",
       "<p>896 rows × 2 columns</p>\n",
       "</div>"
      ],
      "text/plain": [
       "                                      paperId  \\\n",
       "0    167273526caeae8439b2c08630f984b758f76dab   \n",
       "1    cb3d482fa29075ed3305f11016056661c0d999e0   \n",
       "2    e73859fdfb9c2986fa17fc8d7e596514487cdb8b   \n",
       "3    59138f6c6cc957c03532088386cd15079c6d17af   \n",
       "4    47c3d413056fe8538cb5ce2d6adc860e70062bf6   \n",
       "..                                        ...   \n",
       "891  a22d3cc6b4a6bf48b7235d921055fb1f6ee65f79   \n",
       "892  d0e81e438e94aa12708a642e71ba6ad77ba7fe1d   \n",
       "893  c959b60afa302d960e3769996baf06448e708802   \n",
       "894  63d6fd486101b559d337871f8883effc7cbfceb6   \n",
       "895  4f2ce2be2f01a724e68858d48f8d3ed99a638738   \n",
       "\n",
       "                                              abstract  \n",
       "0    There is growing concern about \"algorithmic bi...  \n",
       "1    Preventing discrimination requires that we hav...  \n",
       "2    There are widespread concerns that the growing...  \n",
       "3    The law forbids discrimination. But the ambigu...  \n",
       "4    Evaluating whether machines improve on human p...  \n",
       "..                                                 ...  \n",
       "891  With an increasing number of people, especiall...  \n",
       "892  Lack of regular physical or economic access to...  \n",
       "893  The integration of automotive communications i...  \n",
       "894  The conditions in which we are born, grow, liv...  \n",
       "895  Significance Hierarchies structure the lives o...  \n",
       "\n",
       "[896 rows x 2 columns]"
      ]
     },
     "execution_count": 44,
     "metadata": {},
     "output_type": "execute_result"
    }
   ],
   "source": [
    "filtered_abstracts"
   ]
  },
  {
   "cell_type": "markdown",
   "metadata": {},
   "source": [
    "## Prelude to Exercise 2: Some theory on bigrams and contingency tables .\n",
    "\n",
    "In this course, we use a \"bag-of-words\" approach, beucause using simple methods to explore the data is **very** important before applying any complex model. \n",
    "Here, we learn how to account for an issue that often comes up when using a bag-of-words approach when studying textual data. \n",
    "The concept of [*collocation*](https://en.wikipedia.org/wiki/Collocation), or *pairs of words that tend to appear together more often than by chance*. It is an important concept in linguistics. \n",
    "\n",
    "In the case of collocations, words should be considered together to retain their original meaning (e.g. *machine learning* is not simply *machine* and *learning*. The same applies to *computer science*, *social media*, *computational social science* ).\n",
    "\n",
    "**How do we find out if a pair of words $w_1, w_2$ appears in a corpus more often than one would expect by chance?** We study the corresponding *contingency table*.\n",
    "Given a corpus, and two words $w_1$ and $w_2$, a contingency table is a matrix with the following elements:\n",
    "\n",
    "$$C_{w_1,w_2}= \\begin{bmatrix} n_{ii} & n_{oi} \\\\ n_{io} & n_{oo} \\end{bmatrix}$$\n",
    "\n",
    "$n_{ii}$: the number of times the bigram ($w_1$, $w_2$) appear in the corpus     \n",
    "$n_{io}$: the number of bigrams ($w_1$, * ), where the first element is $w_1$ and the second element is **not** $w_2$         \n",
    "$n_{oi}$:  the number of bigrams ( * , $w_2$ ), where the first element is **not** $w_1$ and the second element is $w_2$    \n",
    "$n_{oo}$: the number of bigrams ( * , * ) where the first element is **not** $w_1$ and the second is **not** $w_2$. \n",
    "\n",
    "Then, we can compare the observed number of occurrences of the bigram, $n_{ii}$, with the number of occurrences we would expect simply by random chance.\n",
    "The value we would expect by chance is equal to the product between three terms:  the total number of bigrams, $N$; the probability that a bigram starts with $w_1$, which is equal to $(n_{ii} + n_{io})/N$; the probability that a bigram ends with $w_2$, which is equal to $(n_{ii} + n_{oi})/N$.  \n",
    "\n",
    "\n",
    "To check if the number of times our bigram appears, $n_{ii}$, is close to the value we expect by chance, we can run a [Chi Square test](https://docs.scipy.org/doc/scipy/reference/generated/scipy.stats.chi2_contingency.html).\n",
    "\n",
    "\n",
    "\n",
    "**Note:** [*contigency tables*](https://en.wikipedia.org/wiki/Contingency_table) can be used in any statistical problem where one wants to study multivariate frequency distributions (not just in the case of textual data). "
   ]
  },
  {
   "cell_type": "markdown",
   "metadata": {},
   "source": [
    "> **Exercise 2: Bigrams and contingency tables**. \n",
    "> 1. Find the list of bigrams in each of the abstracts. If you don't remember how to do it, go back to [Chapter 1](http://www.nltk.org/book/) of your book. Store all the bigrams in a single list.  \n",
    "> 2. For each unique bigram in your list:\n",
    ">   - compute the corresponding *contingency table* (see the theory just above)\n",
    ">   - compute the p-value associated to the [Chi-squared test](https://docs.scipy.org/doc/scipy/reference/generated/scipy.stats.chi2_contingency.html)\n",
    "> 3. What is the sum of all the elements of a contingency table?  \n",
    "> 4. Find the list of bigrams with p-value smaller than 0.001.\n",
    "> 5. How many bigrams have you found? Print out 10 of them. What do you observe? Which bigrams does this list include? \n",
    "> 6. *(Optional)* Recompute the __tokens__ column in your dataframe. This time, do not split pairs of words that constitute a collocation (they should be part of the same token). **Hint:** You can use the [MWETokenizer](https://www.nltk.org/_modules/nltk/tokenize/mwe.html). \n",
    "> 7. Save your filtered abstract dataframe with the new __tokens__ column. **You can also delete your old abstract dataframe, that included all papers.**\n"
   ]
  },
  {
   "cell_type": "code",
   "execution_count": null,
   "metadata": {},
   "outputs": [],
   "source": [
    "import pickle\n",
    "import nltk\n",
    "nltk.download(\"all\")\n",
    "\n",
    "with open(\"filtered_abstracts.pickle\", \"rb\") as f:\n",
    "    df = pickle.load(f)\n",
    "df.head()"
   ]
  },
  {
   "cell_type": "code",
   "execution_count": null,
   "metadata": {},
   "outputs": [],
   "source": [
    "# 1. Tokenize the text of each abstract. Create a column tokens in your dataframe containing the tokens. Remember the bullets below for success.\n",
    "\n",
    "def tokenize(text):\n",
    "    # Remove punctuation\n",
    "    tokens = nltk.tokenize.RegexpTokenizer(\"\\w+\").tokenize(text)\n",
    "    # Remove URLs\n",
    "    tokens = [t for t in tokens if not t.startswith(\"http\")]\n",
    "\n",
    "    # Remove stop words\n",
    "    stopwords = nltk.corpus.stopwords.words(\"english\")\n",
    "    tokens = [t for t in tokens if t not in stopwords]\n",
    "\n",
    "    # Remove numbers\n",
    "    tokens = [t for t in tokens if not t.isnumeric()]\n",
    "\n",
    "    # Lowercase\n",
    "    tokens = [t.lower() for t in tokens]\n",
    "\n",
    "    return tokens\n",
    "\n",
    "df[\"tokens\"] = df[\"abstract\"].apply(tokenize)\n",
    "\n",
    "df.head()"
   ]
  },
  {
   "cell_type": "code",
   "execution_count": null,
   "metadata": {},
   "outputs": [],
   "source": [
    "all_tokens = [t for tokens in df[\"tokens\"] for t in tokens]"
   ]
  },
  {
   "cell_type": "code",
   "execution_count": null,
   "metadata": {},
   "outputs": [],
   "source": [
    "fdist = nltk.FreqDist(all_tokens)\n",
    "most_common = fdist.most_common(50)\n",
    "\n",
    "for word, freq in most_common:\n",
    "    print(\"{}: {}\".format(word, freq))"
   ]
  },
  {
   "cell_type": "code",
   "execution_count": null,
   "metadata": {},
   "outputs": [],
   "source": [
    "import matplotlib.pyplot as plt\n",
    "import numpy as np\n",
    "\n",
    "def plot_zipf(tokens):\n",
    "    fdist = nltk.FreqDist(tokens)\n",
    "    most_common = fdist.most_common()\n",
    "\n",
    "    x = np.arange(1, len(most_common) + 1)\n",
    "    y = [freq for word, freq in most_common]\n",
    "\n",
    "    plt.plot(x, y)\n",
    "    plt.xscale(\"log\")\n",
    "    plt.yscale(\"log\")\n",
    "    plt.xlabel(\"Word rank\")\n",
    "    plt.ylabel(\"Word frequency\")\n",
    "    plt.show()\n",
    "\n",
    "plot_zipf(all_tokens)"
   ]
  },
  {
   "cell_type": "code",
   "execution_count": null,
   "metadata": {},
   "outputs": [],
   "source": [
    "import string\n",
    "import random\n",
    "random.seed(69420)\n",
    "\n",
    "def generate_random_text(n):\n",
    "    return \"\".join(random.choice(string.ascii_lowercase + \" \") for _ in range(n))\n",
    "\n",
    "random_text = generate_random_text(10000000)\n",
    "\n",
    "plot_zipf(tokenize(random_text))"
   ]
  },
  {
   "attachments": {},
   "cell_type": "markdown",
   "metadata": {},
   "source": [
    "## Prelude to Exercise 2: Some theory on bigrams and contingency tables .\n",
    "\n",
    "In this course, we use a \"bag-of-words\" approach, beucause using simple methods to explore the data is **very** important before applying any complex model. \n",
    "Here, we learn how to account for an issue that often comes up when using a bag-of-words approach when studying textual data. \n",
    "The concept of [*collocation*](https://en.wikipedia.org/wiki/Collocation), or *pairs of words that tend to appear together more often than by chance*. It is an important concept in linguistics. \n",
    "\n",
    "In the case of collocations, words should be considered together to retain their original meaning (e.g. *machine learning* is not simply *machine* and *learning*. The same applies to *computer science*, *social media*, *computational social science* ).\n",
    "\n",
    "**How do we find out if a pair of words $w_1, w_2$ appears in a corpus more often than one would expect by chance?** We study the corresponding *contingency table*.\n",
    "Given a corpus, and two words $w_1$ and $w_2$, a contingency table is a matrix with the following elements:\n",
    "\n",
    "$$C_{w_1,w_2}= \\begin{bmatrix} n_{ii} & n_{oi} \\\\ n_{io} & n_{oo} \\end{bmatrix}$$\n",
    "\n",
    "$n_{ii}$: the number of times the bigram ($w_1$, $w_2$) appear in the corpus     \n",
    "$n_{io}$: the number of bigrams ($w_1$, * ), where the first element is $w_1$ and the second element is **not** $w_2$         \n",
    "$n_{oi}$:  the number of bigrams ( * , $w_2$ ), where the first element is **not** $w_1$ and the second element is $w_2$    \n",
    "$n_{oo}$: the number of bigrams ( * , * ) where the first element is **not** $w_1$ and the second is **not** $w_2$. \n",
    "\n",
    "Then, we can compare the observed number of occurrences of the bigram, $n_{ii}$, with the number of occurrences we would expect simply by random chance.\n",
    "The value we would expect by chance is equal to the product between three terms:  the total number of bigrams, $N$; the probability that a bigram starts with $w_1$, which is equal to $(n_{ii} + n_{io})/N$; the probability that a bigram ends with $w_2$, which is equal to $(n_{ii} + n_{oi})/N$.  \n",
    "\n",
    "\n",
    "To check if the number of times our bigram appears, $n_{ii}$, is close to the value we expect by chance, we can run a [Chi Square test](https://docs.scipy.org/doc/scipy/reference/generated/scipy.stats.chi2_contingency.html).\n",
    "\n",
    "\n",
    "\n",
    "**Note:** [*contigency tables*](https://en.wikipedia.org/wiki/Contingency_table) can be used in any statistical problem where one wants to study multivariate frequency distributions (not just in the case of textual data). "
   ]
  },
  {
   "cell_type": "code",
   "execution_count": null,
   "metadata": {},
   "outputs": [],
   "source": [
    "def get_bigrams(tokens):\n",
    "    return list(nltk.bigrams(tokens))"
   ]
  },
  {
   "cell_type": "code",
   "execution_count": null,
   "metadata": {},
   "outputs": [],
   "source": [
    "df[\"bigrams\"] = [get_bigrams(tokens) for tokens in df[\"tokens\"]]\n",
    "\n",
    "all_bigrams = [bigram for bigrams in df[\"bigrams\"] for bigram in bigrams]"
   ]
  },
  {
   "cell_type": "code",
   "execution_count": null,
   "metadata": {},
   "outputs": [],
   "source": [
    "import scipy.stats as stats\n",
    "from tqdm.autonotebook import tqdm"
   ]
  },
  {
   "cell_type": "code",
   "execution_count": null,
   "metadata": {},
   "outputs": [],
   "source": [
    "from collections import Counter\n",
    "\n",
    "unique_bigrams = set(all_bigrams)\n",
    "print(\"Unique bigrams:\", len(unique_bigrams))\n",
    "print(\"All bigrams:\", len(all_bigrams))\n",
    "print(\"Unique words:\", len(set(all_tokens)))\n",
    "\n",
    "def contingency_table(bigram, all_bigrams_count, unique_words):\n",
    "    n_ii = all_bigrams_count[bigram]\n",
    "\n",
    "    n_io = 0\n",
    "    n_oi = 0\n",
    "\n",
    "    for other in unique_words:\n",
    "        if other != bigram[1]:\n",
    "            n_io += all_bigrams_count[(bigram[0], other)]\n",
    "        if other != bigram[0]:\n",
    "            n_oi += all_bigrams_count[(other, bigram[1])]\n",
    "\n",
    "    n_oo = len(all_bigrams) - n_ii - n_io - n_oi\n",
    "    return np.array([[n_ii, n_io], [n_oi, n_oo]])\n",
    "\n",
    "all_bigrams_count = Counter(all_bigrams)\n",
    "contingency_tables = [contingency_table(bigram, all_bigrams_count, set(all_tokens)) for bigram in tqdm(unique_bigrams)]\n",
    "\n",
    "contingency_tables[0]"
   ]
  },
  {
   "cell_type": "code",
   "execution_count": null,
   "metadata": {},
   "outputs": [],
   "source": [
    "## Calculate P-values\n",
    "p_values = [stats.chi2_contingency(contingency_table)[1] for contingency_table in tqdm(contingency_tables)]\n",
    "\n",
    "p_values[0]"
   ]
  },
  {
   "cell_type": "code",
   "execution_count": null,
   "metadata": {},
   "outputs": [],
   "source": [
    "import pandas as pd\n",
    "## Create a dataframe with the bigrams and their p-values\n",
    "bigrams_df = pd.DataFrame({\"bigram\": list(unique_bigrams), \"p_value\": p_values})\n",
    "\n",
    "bigrams_df.head()"
   ]
  },
  {
   "cell_type": "code",
   "execution_count": null,
   "metadata": {},
   "outputs": [],
   "source": [
    "contingency_tables[0].sum()"
   ]
  },
  {
   "cell_type": "code",
   "execution_count": null,
   "metadata": {},
   "outputs": [],
   "source": [
    "bigrams_df[bigrams_df[\"p_value\"] < 0.001].head(10)"
   ]
  },
  {
   "cell_type": "code",
   "execution_count": null,
   "metadata": {},
   "outputs": [],
   "source": [
    "df.to_csv(\"abstracts_tokenized.csv\", index=False)"
   ]
  }
 ],
 "metadata": {
  "anaconda-cloud": {},
  "kernelspec": {
   "display_name": "Python 3 (ipykernel)",
   "language": "python",
   "name": "python3"
  },
  "language_info": {
   "codemirror_mode": {
    "name": "ipython",
    "version": 3
   },
   "file_extension": ".py",
   "mimetype": "text/x-python",
   "name": "python",
   "nbconvert_exporter": "python",
   "pygments_lexer": "ipython3",
   "version": "3.9.16"
  }
 },
 "nbformat": 4,
 "nbformat_minor": 1
}
