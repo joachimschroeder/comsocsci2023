{
 "cells": [
  {
   "cell_type": "markdown",
   "id": "f8a88010",
   "metadata": {},
   "source": [
    "## What is a third-party API?\n"
   ]
  },
  {
   "cell_type": "markdown",
   "id": "2d2798c8",
   "metadata": {},
   "source": [
    "Third party APIs are provided by third parties — generally companies such as Facebook, Twitter, or Google — to allow you to access their functionality and data. "
   ]
  },
  {
   "cell_type": "markdown",
   "id": "f7344244",
   "metadata": {},
   "source": [
    "## Sending an API request in Python "
   ]
  },
  {
   "attachments": {},
   "cell_type": "markdown",
   "id": "6d472447",
   "metadata": {},
   "source": [
    "Let's say we wanted to find scientific papers about \"ChatGPT\" published in 2023. \n",
    "There are a few APIs out there that allow you to gather research articles and related data. \n",
    "Some examples are: \n",
    "\n",
    "- [Semantic Scholar Academic Graph API](https://api.semanticscholar.org/api-docs/graph)\n",
    "- [openalex](https://docs.openalex.org/)\n",
    "- [CrossRef API](https://www.crossref.org/documentation/retrieve-metadata/rest-api/)\n",
    "\n",
    "In this example, I am going to use the Semantic Scholar Academic Graph API. "
   ]
  },
  {
   "cell_type": "code",
   "execution_count": 4,
   "id": "c9c10592",
   "metadata": {},
   "outputs": [],
   "source": [
    "import requests\n"
   ]
  },
  {
   "cell_type": "code",
   "execution_count": 5,
   "id": "03de4b55",
   "metadata": {},
   "outputs": [],
   "source": [
    "BASE_URL = \"https://api.semanticscholar.org/graph/\"\n",
    "VERSION = \"v1/\"\n",
    "RESOURCE = \"paper/search\"\n",
    "\n",
    "\n",
    "params = {'query':\"ChatGPT\",\n",
    "          \"year\":2023,\n",
    "           \"offset\":0,\n",
    "           \"limit\":100,\n",
    "            \"fields\":\"title,year,authors\"}"
   ]
  },
  {
   "cell_type": "code",
   "execution_count": 6,
   "id": "d39686d6",
   "metadata": {},
   "outputs": [],
   "source": [
    "my_url = BASE_URL + VERSION + RESOURCE"
   ]
  },
  {
   "cell_type": "code",
   "execution_count": 7,
   "id": "e94675fe",
   "metadata": {},
   "outputs": [],
   "source": [
    "r = requests.get(my_url, params=params)"
   ]
  },
  {
   "cell_type": "code",
   "execution_count": 8,
   "id": "f79e5a99",
   "metadata": {},
   "outputs": [
    {
     "data": {
      "text/plain": [
       "[{'paperId': '0d25a53184a9c56084416b292de9a8fef4b27347',\n",
       "  'title': 'Tools such as ChatGPT threaten transparent science; here are our ground rules for their use',\n",
       "  'year': 2023,\n",
       "  'authors': []},\n",
       " {'paperId': '8f64f4633d9c482bb826b7a9fe9c1493837d7112',\n",
       "  'title': 'Is ChatGPT A Good Translator? A Preliminary Study',\n",
       "  'year': 2023,\n",
       "  'authors': [{'authorId': '12386833', 'name': 'Wenxiang Jiao'},\n",
       "   {'authorId': '2144328160', 'name': 'Wenxuan Wang'},\n",
       "   {'authorId': '2161306685', 'name': 'Jen-tse Huang'},\n",
       "   {'authorId': '2144800839', 'name': 'Xing Wang'},\n",
       "   {'authorId': '2909321', 'name': 'Zhaopeng Tu'}]},\n",
       " {'paperId': '1f22de83d912176cb8857efa1c6d65b14d6a2f5c',\n",
       "  'title': 'ChatGPT is not all you need. A State of the Art Review of large Generative AI models',\n",
       "  'year': 2023,\n",
       "  'authors': [{'authorId': '2200162353', 'name': 'Roberto Gozalo-Brizuela'},\n",
       "   {'authorId': '1398645148', 'name': 'E.C. Garrido-Merchán'}]},\n",
       " {'paperId': 'eddfb9be78cfe94193766e3722eb0e56c3d24cef',\n",
       "  'title': 'ChatGPT is fun, but not an author',\n",
       "  'year': 2023,\n",
       "  'authors': [{'authorId': '2003404994', 'name': 'H. Thorp'}]},\n",
       " {'paperId': '0570e8fc8b02e7eb66e798b00726fba0592ea90f',\n",
       "  'title': 'ChatGPT listed as author on research papers: many scientists disapprove',\n",
       "  'year': 2023,\n",
       "  'authors': [{'authorId': '1413934873', 'name': 'Chris Stokel-Walker'}]},\n",
       " {'paperId': '9f530ebf624bf58e91b2a1f20b0799a45ca48f9a',\n",
       "  'title': 'An Analysis of the Automatic Bug Fixing Performance of ChatGPT',\n",
       "  'year': 2023,\n",
       "  'authors': [{'authorId': '51040229', 'name': 'D. Sobania'},\n",
       "   {'authorId': '2107692276', 'name': 'Martin Briesch'},\n",
       "   {'authorId': '2202175551', 'name': 'Carol Hanna'},\n",
       "   {'authorId': '1923360', 'name': 'J. Petke'}]},\n",
       " {'paperId': '9dafa6c5c609348b46734fc8997b93b3587fec6e',\n",
       "  'title': 'Collaborating With ChatGPT: Considering the Implications of Generative Artificial Intelligence for Journalism and Media Education',\n",
       "  'year': 2023,\n",
       "  'authors': [{'authorId': '1795976', 'name': 'J. Pavlik'}]},\n",
       " {'paperId': '50aea7bae4c478e850f218e58da0e24f501ab8fc',\n",
       "  'title': 'Abstracts written by ChatGPT fool scientists',\n",
       "  'year': 2023,\n",
       "  'authors': [{'authorId': '40898374', 'name': 'Holly Else'}]},\n",
       " {'paperId': 'cb29cf52f0f7d2e4324c68690a55b22890f2212d',\n",
       "  'title': 'How Close is ChatGPT to Human Experts? Comparison Corpus, Evaluation, and Detection',\n",
       "  'year': 2023,\n",
       "  'authors': [{'authorId': '2034015747', 'name': 'Biyang Guo'},\n",
       "   {'authorId': '2149173726', 'name': 'Xin Zhang'},\n",
       "   {'authorId': '2108416148', 'name': 'Ziyuan Wang'},\n",
       "   {'authorId': '2152154941', 'name': 'Minqi Jiang'},\n",
       "   {'authorId': '2147399904', 'name': 'Jinran Nie'},\n",
       "   {'authorId': '2193663564', 'name': 'Yuxuan Ding'},\n",
       "   {'authorId': '2170160137', 'name': 'Jianwei Yue'},\n",
       "   {'authorId': '2107934757', 'name': 'Yupeng Wu'}]},\n",
       " {'paperId': '3c76d5b253a3f8f2bb2294e94037b6fe16bf1ab1',\n",
       "  'title': \"Are ChatGPT's knowledge and interpretation ability comparable to those of medical students in Korea for taking a parasitology examination?: a descriptive study.\",\n",
       "  'year': 2023,\n",
       "  'authors': [{'authorId': '143918822', 'name': 'Sun Huh'}]},\n",
       " {'paperId': '518ef9a2ec3093a06e879b2395ca448ab90d06d6',\n",
       "  'title': 'Philosophical Questions Concerning the Anthropocene and the Plasticene to ChatGPT and the Moderate Perspectives Derived from Their Responses',\n",
       "  'year': 2023,\n",
       "  'authors': [{'authorId': '10721764', 'name': 'S. Furukuma'}]},\n",
       " {'paperId': '8d43f788a863258dc0a34e05f4a0c9f434be7829',\n",
       "  'title': 'Causal-Discovery Performance of ChatGPT in the context of Neuropathic Pain Diagnosis',\n",
       "  'year': 2023,\n",
       "  'authors': [{'authorId': '51132868', 'name': 'Ruibo Tu'},\n",
       "   {'authorId': '144905350', 'name': 'Chao Ma'},\n",
       "   {'authorId': '2200137595', 'name': 'Cheng Zhang'}]},\n",
       " {'paperId': '4cb40457f6c7a2f45d6395a17450800c9dbad41a',\n",
       "  'title': 'Regulating ChatGPT and other Large Generative AI Models',\n",
       "  'year': 2023,\n",
       "  'authors': [{'authorId': '49095886', 'name': 'P. Hacker'},\n",
       "   {'authorId': '2053831555', 'name': 'A. Engel'},\n",
       "   {'authorId': '36216751', 'name': 'M. Mauer'}]},\n",
       " {'paperId': 'cb0538917a1810875250672064b1d923eb37c650',\n",
       "  'title': 'AI Insights into Theoretical Physics and the Swampland Program: A Journey Through the Cosmos with ChatGPT',\n",
       "  'year': 2023,\n",
       "  'authors': [{'authorId': '2201839306', 'name': 'Kay Lehnert'}]},\n",
       " {'paperId': '18ae3a54f9b89530da0f999ce42d50299eed86c7',\n",
       "  'title': 'Chat2VIS: Generating Data Visualisations via Natural Language using ChatGPT, Codex and GPT-3 Large Language Models',\n",
       "  'year': 2023,\n",
       "  'authors': [{'authorId': '2166478496', 'name': 'Paula Maddigan'},\n",
       "   {'authorId': '2656889', 'name': 'Teo Susnjak'}]},\n",
       " {'paperId': 'c7a1202726442872de207ea62c2223a392afcde2',\n",
       "  'title': 'ChatGPT : Un robot conversationnel peut-il enseigner ?',\n",
       "  'year': 2023,\n",
       "  'authors': [{'authorId': '49509218', 'name': 'B. Quinio'},\n",
       "   {'authorId': '2769534', 'name': 'Marc Bidan'}]},\n",
       " {'paperId': 'fdbe8d1896b754125c6255f07bd9fecc2ea59127',\n",
       "  'title': \"Putting ChatGPT's Medical Advice to the (Turing) Test\",\n",
       "  'year': 2023,\n",
       "  'authors': [{'authorId': '71575036', 'name': 'O. Nov'},\n",
       "   {'authorId': '153599001', 'name': 'N. Singh'},\n",
       "   {'authorId': '121345049', 'name': 'D. Mann'}]},\n",
       " {'paperId': '35cdc00a4e2bc1f6c253a34a5e3a6f697050d1e9',\n",
       "  'title': 'Evaluating the Performance of ChatGPT in Ophthalmology: An Analysis of its Successes and Shortcomings',\n",
       "  'year': 2023,\n",
       "  'authors': [{'authorId': '41132090', 'name': 'F. Antaki'},\n",
       "   {'authorId': '2003766323', 'name': 'S. Touma'},\n",
       "   {'authorId': '1396269411', 'name': 'D. Milad'},\n",
       "   {'authorId': '1412265275', 'name': 'J. El-Khoury'},\n",
       "   {'authorId': '2138280308', 'name': 'R. Duval'}]},\n",
       " {'paperId': 'df239785e6d26a45e9c8e06551cfecba92d1ecad',\n",
       "  'title': 'Exploring AI Ethics of ChatGPT: A Diagnostic Analysis',\n",
       "  'year': 2023,\n",
       "  'authors': [{'authorId': '2080123731', 'name': 'Terry Yue Zhuo'},\n",
       "   {'authorId': '2108733121', 'name': 'Yujin Huang'},\n",
       "   {'authorId': '46729152', 'name': 'Chunyang Chen'},\n",
       "   {'authorId': '3138980', 'name': 'Zhenchang Xing'}]},\n",
       " {'paperId': 'b6f8cffc5da51581aec71d919d010d55e5ac068a',\n",
       "  'title': \"The political ideology of conversational AI: Converging evidence on ChatGPT's pro-environmental, left-libertarian orientation\",\n",
       "  'year': 2023,\n",
       "  'authors': [{'authorId': '39697129', 'name': 'Jochen Hartmann'},\n",
       "   {'authorId': '2004368787', 'name': 'Jasper Schwenzow'},\n",
       "   {'authorId': '94737364', 'name': 'Maximilian Witte'}]},\n",
       " {'paperId': 'dfc125ec03e84c2ae26147964fc301b1455f3181',\n",
       "  'title': 'The moral authority of ChatGPT',\n",
       "  'year': 2023,\n",
       "  'authors': [{'authorId': '104246606', 'name': 'Sebastian Krügel'},\n",
       "   {'authorId': '20658415', 'name': 'Andreas Ostermaier'},\n",
       "   {'authorId': '1696033469', 'name': 'Matthias W. Uhl'}]},\n",
       " {'paperId': '807110054f8137a10ed5bb05a33e93bf596f897a',\n",
       "  'title': 'ChatGPT: Exploring the Role of Cybersecurity in the Protection of Medical Information',\n",
       "  'year': 2023,\n",
       "  'authors': [{'authorId': '1394846990', 'name': 'Maad M. Mijwil'},\n",
       "   {'authorId': '1447250772', 'name': 'Mohammad Aljanabi'},\n",
       "   {'authorId': '145907529', 'name': 'Ahmed Ali'}]},\n",
       " {'paperId': '51f7be38ee824f8b5f3fb3cc05d4dbd05ea02706',\n",
       "  'title': 'ChatGPT and Software Testing Education: Promises&Perils',\n",
       "  'year': 2023,\n",
       "  'authors': [{'authorId': None, 'name': 'Sajed Jalil'},\n",
       "   {'authorId': None, 'name': 'Suzzana Rafi'},\n",
       "   {'authorId': None, 'name': 'Thomas D. LaToza'},\n",
       "   {'authorId': None, 'name': 'Kevin Moran'},\n",
       "   {'authorId': None, 'name': 'Wing Lam'}]},\n",
       " {'paperId': 'b0313223b5debcdd44dfdaf61275fb4daab51861',\n",
       "  'title': 'A Categorical Archive of ChatGPT Failures',\n",
       "  'year': 2023,\n",
       "  'authors': [{'authorId': None, 'name': 'Ali Borji'}]},\n",
       " {'paperId': '2af327673f929d30da88a4c61e0a5bddda389fcd',\n",
       "  'title': 'Microsoft bietet ChatGPT an',\n",
       "  'year': 2023,\n",
       "  'authors': [{'authorId': '2133051672', 'name': 'Maurizio Giuri'}]},\n",
       " {'paperId': '58b98ccd256f1ebe8551faa6798cfbfc80c490a5',\n",
       "  'title': 'Investigating the use of ChatGPT for the scheduling of construction projects',\n",
       "  'year': 2023,\n",
       "  'authors': [{'authorId': '2204579033', 'name': 'Samuel A. Prieto'},\n",
       "   {'authorId': '2166277457', 'name': 'Eyob Mengiste'},\n",
       "   {'authorId': '98018377', 'name': 'Borja García de Soto'}]},\n",
       " {'paperId': 'd05ba0c40f3408aab7bb594628f24d9f04bf2831',\n",
       "  'title': 'Evaluating ChatGPT as an Adjunct for Radiologic Decision-Making',\n",
       "  'year': 2023,\n",
       "  'authors': [{'authorId': '47652637', 'name': 'A. S. Rao'},\n",
       "   {'authorId': None, 'name': 'J. Kim'},\n",
       "   {'authorId': '72458178', 'name': 'M. Kamineni'},\n",
       "   {'authorId': '9690134', 'name': 'M. Pang'},\n",
       "   {'authorId': '102502817', 'name': 'W. Lie'},\n",
       "   {'authorId': '14920559', 'name': 'M. Succi'}]},\n",
       " {'paperId': '6deec8aa36b057b25123a540922c7007aaaeba60',\n",
       "  'title': 'ChatGPT: Future Directions and Open possibilities',\n",
       "  'year': 2023,\n",
       "  'authors': [{'authorId': '1447250772', 'name': 'Mohammad Aljanabi'},\n",
       "   {'authorId': '2196932745', 'name': 'chatGPT'}]},\n",
       " {'paperId': '57be0eee785bbfd669c1f51e9a3681105b7f82be',\n",
       "  'title': 'The Benefits and Challenges of ChatGPT: An Overview',\n",
       "  'year': 2023,\n",
       "  'authors': [{'authorId': '2200923644', 'name': 'Jianyang Deng'},\n",
       "   {'authorId': '2201012875', 'name': 'Yijia Lin'}]},\n",
       " {'paperId': '621b8c4b37d1e22d440262dda2206ac13da6d779',\n",
       "  'title': 'ChatGPT and Other Large Language Models Are Double-edged Swords.',\n",
       "  'year': 2023,\n",
       "  'authors': [{'authorId': '35139543', 'name': 'Yiqiu Shen'},\n",
       "   {'authorId': '3771591', 'name': 'L. Heacock'},\n",
       "   {'authorId': '2202899600', 'name': 'Jonathan Elias'},\n",
       "   {'authorId': '4964392', 'name': 'K. Hentel'},\n",
       "   {'authorId': '12542421', 'name': 'B. Reig'},\n",
       "   {'authorId': '2202899450', 'name': 'George Shih'},\n",
       "   {'authorId': '145717702', 'name': 'Linda Moy'}]},\n",
       " {'paperId': '2db2ccb54f68ab20edc5ae94eceb1cc16359e142',\n",
       "  'title': 'OpenAI ChatGPT Generated Results: Similarity Index of Artificial Intelligence-Based Contents',\n",
       "  'year': 2023,\n",
       "  'authors': [{'authorId': '72433942', 'name': 'R. J. Ventayen'}]},\n",
       " {'paperId': '8cf06d326bda0d619316a346de75cc34b6a981a3',\n",
       "  'title': 'Chatbots, ChatGPT, and Scholarly Manuscripts WAME Recommendations on ChatGPT and Chatbots in Relation to Scholarly Publications',\n",
       "  'year': 2023,\n",
       "  'authors': [{'authorId': '2204181382', 'name': 'Chris Zielinski'},\n",
       "   {'authorId': '2204229179', 'name': 'Margaret Winker'},\n",
       "   {'authorId': '2204060826', 'name': 'Rakesh Aggarwal'},\n",
       "   {'authorId': '2204139714', 'name': 'Lorraine Ferris'},\n",
       "   {'authorId': '2204088680', 'name': 'Markus Heinemann'},\n",
       "   {'authorId': '2204225654', 'name': 'Jose Florencio Lapeña'},\n",
       "   {'authorId': '2204241478', 'name': 'Sanjay Pai'},\n",
       "   {'authorId': '2204225725', 'name': 'Edsel Ing'},\n",
       "   {'authorId': '2204240490', 'name': 'Leslie Citrome'}]},\n",
       " {'paperId': '29243fe762ff627bff2d4f34f44cfcaa0afce3fd',\n",
       "  'title': 'ChatGPT and the Future of Medical Writing.',\n",
       "  'year': 2023,\n",
       "  'authors': [{'authorId': '2150472791', 'name': 'S. Biswas'}]},\n",
       " {'paperId': '372fe9428dff788274081b00634d484db0c2fda4',\n",
       "  'title': 'ChatGPT Goes to Law School',\n",
       "  'year': 2023,\n",
       "  'authors': [{'authorId': '46308962', 'name': 'Jonathan H. Choi'},\n",
       "   {'authorId': '98900189', 'name': 'Kristin E. Hickman'},\n",
       "   {'authorId': '16166682', 'name': 'Amy B. Monahan'},\n",
       "   {'authorId': '83686718', 'name': 'D. Schwarcz'}]},\n",
       " {'paperId': '9460f9fbc532416c8ec39591577032a5fa4a79b3',\n",
       "  'title': 'ChatGPT: Bullshit spewer or the end of traditional assessments in higher education?',\n",
       "  'year': 2023,\n",
       "  'authors': []},\n",
       " {'paperId': 'ffa13df31597b8952af56a2a1bea719726422724',\n",
       "  'title': 'ChatGpt: Open Possibilities',\n",
       "  'year': 2023,\n",
       "  'authors': []},\n",
       " {'paperId': '0d065e8688c38bb0148203a1738f47184a5b58d3',\n",
       "  'title': 'ChatGPT: Unlocking the Future of NLP in Finance',\n",
       "  'year': 2023,\n",
       "  'authors': [{'authorId': '104406084', 'name': 'Adam Zaremba'},\n",
       "   {'authorId': '16775568', 'name': 'Ender Demir'}]},\n",
       " {'paperId': '0ff24246377b740fcb54821384988b090785d6ee',\n",
       "  'title': 'Sixty seconds on . . . ChatGPT',\n",
       "  'year': 2023,\n",
       "  'authors': [{'authorId': '1620851794', 'name': 'Mun-Keat Looi'}]},\n",
       " {'paperId': '283ecf85ba901865303f37a2c9f6206d266e5019',\n",
       "  'title': 'ChatGPT: evolution or revolution?',\n",
       "  'year': 2023,\n",
       "  'authors': [{'authorId': '2354377', 'name': 'B. Gordijn'},\n",
       "   {'authorId': '50377385', 'name': 'H. Have'}]},\n",
       " {'paperId': 'cc141e7a0ca2d90eadbf1b422926355f53a8513b',\n",
       "  'title': 'A Note about Story Grammars in ChatGPT',\n",
       "  'year': 2023,\n",
       "  'authors': [{'authorId': '3195738', 'name': 'W. Benzon'}]},\n",
       " {'paperId': '4d856bc591922f86d3b197ce89877637f184044b',\n",
       "  'title': 'Can ChatGPT Write a Good Boolean Query for Systematic Review Literature Search?',\n",
       "  'year': 2023,\n",
       "  'authors': [{'authorId': None, 'name': 'Shuai Wang'},\n",
       "   {'authorId': None, 'name': 'Harrisen Scells'},\n",
       "   {'authorId': None, 'name': 'Bevan Koopman'},\n",
       "   {'authorId': None, 'name': 'Guido Zuccon'}]},\n",
       " {'paperId': '69e3df4aa15574841e6f051bd43d40c15b0bb519',\n",
       "  'title': 'Initial impressions of ChatGPT for anatomy education.',\n",
       "  'year': 2023,\n",
       "  'authors': [{'authorId': None, 'name': 'Sreenivasulu Reddy Mogali'}]},\n",
       " {'paperId': '819f91874cfa43335401cddedd02b8cfc1c2b84f',\n",
       "  'title': 'Mathematical Capabilities of ChatGPT',\n",
       "  'year': 2023,\n",
       "  'authors': [{'authorId': '2127069744', 'name': 'Simon Frieder'},\n",
       "   {'authorId': '2151791007', 'name': 'Luca Pinchetti'},\n",
       "   {'authorId': '117074363', 'name': 'Ryan-Rhys Griffiths'},\n",
       "   {'authorId': '148237421', 'name': 'Tommaso Salvatori'},\n",
       "   {'authorId': '1690572', 'name': 'Thomas Lukasiewicz'},\n",
       "   {'authorId': '2203427985', 'name': 'Philipp Christian Petersen'},\n",
       "   {'authorId': '2203426491', 'name': 'Alexis Chevalier'},\n",
       "   {'authorId': '20611061', 'name': 'J. Berner'}]},\n",
       " {'paperId': '578c39d6bcf1a9b4167e66aaa2140cc7ddf068ad',\n",
       "  'title': 'Chatting With ChatGPT',\n",
       "  'year': 2023,\n",
       "  'authors': [{'authorId': '2075937681', 'name': 'Vera Koester'},\n",
       "   {'authorId': '12374747', 'name': 'Catharina Goedecke'}]},\n",
       " {'paperId': '0995fc83865e03a592c21bd5f21ef15f9b3012d1',\n",
       "  'title': 'ChatGPT by OpenAI: The End of Litigation Lawyers?',\n",
       "  'year': 2023,\n",
       "  'authors': [{'authorId': '92809033', 'name': 'Kwansai Iu'},\n",
       "   {'authorId': '2190336752', 'name': 'Vanessa Man-Yi Wong'}]},\n",
       " {'paperId': 'a147a3c5eb5ccc6aebc0e8e11f7900c03e5c9b7c',\n",
       "  'title': 'ChatGPT at Universities – The Least of Our Concerns',\n",
       "  'year': 2023,\n",
       "  'authors': [{'authorId': '14786067', 'name': 'Jurgen Willems'}]},\n",
       " {'paperId': 'eb21b2d1e82c7ec6f78f43e5eb4692456bf3e21e',\n",
       "  'title': 'ChatGPT: five priorities for research',\n",
       "  'year': 2023,\n",
       "  'authors': [{'authorId': '51140547', 'name': 'E. A. V. van Dis'},\n",
       "   {'authorId': '119315380', 'name': 'J. Bollen'},\n",
       "   {'authorId': '2067166918', 'name': 'W. Zuidema'},\n",
       "   {'authorId': '8457319', 'name': 'R. van Rooij'},\n",
       "   {'authorId': '38196528', 'name': 'C. Bockting'}]},\n",
       " {'paperId': '494575126d019ec221ad3a03970c4a00b6b45489',\n",
       "  'title': \"Can ChatGPT 'Think Like a Lawyer?' A Socratic Dialogue\",\n",
       "  'year': 2023,\n",
       "  'authors': [{'authorId': '120912545', 'name': 'Leah M. Bishop'}]},\n",
       " {'paperId': 'ea8c37b949545aa600d1f9410c0040098848dbca',\n",
       "  'title': 'A conversation with ChatGPT on the role of computational systems biology in stem cell research',\n",
       "  'year': 2023,\n",
       "  'authors': [{'authorId': '3284810', 'name': 'P. Cahan'},\n",
       "   {'authorId': '5746516', 'name': 'B. Treutlein'}]},\n",
       " {'paperId': 'a99df4187e94a842504759eaa61ce864a31f30a3',\n",
       "  'title': 'A Computer Wrote this Paper: What ChatGPT Means for Education, Research, and Writing',\n",
       "  'year': 2023,\n",
       "  'authors': [{'authorId': '120912545', 'name': 'Leah M. Bishop'}]},\n",
       " {'paperId': '81e8396f2257952819dabd425fd6ac7c48d16fb8',\n",
       "  'title': 'Towards Artificial Intelligence-Based Cybersecurity: The Practices and ChatGPT Generated Ways to Combat Cybercrime',\n",
       "  'year': 2023,\n",
       "  'authors': [{'authorId': '1394846990', 'name': 'Maad M. Mijwil'}]},\n",
       " {'paperId': '51a7f466057e94b81f8d1b3e15c86586f77f4f2b',\n",
       "  'title': 'Is ChatGPT a Good Tool for T&CM Students in Studying Pharmacology?',\n",
       "  'year': 2023,\n",
       "  'authors': [{'authorId': '71936868', 'name': 'Saima Nisar'},\n",
       "   {'authorId': '2057319891', 'name': 'Muhammad Shahzad Aslam'}]},\n",
       " {'paperId': '9ed2cc3ae5ceb9f67b27ebc00ee3fc7d54bcc35d',\n",
       "  'title': \"De Gutenberg à ChatGPT: Le défi de l'université numérique\",\n",
       "  'year': 2023,\n",
       "  'authors': [{'authorId': '114543655', 'name': 'Henri-Paul Rousseau'}]},\n",
       " {'paperId': '86525cf1961a876cbca92c3dbb228da8201595fa',\n",
       "  'title': 'Democratizing Financial Knowledge with ChatGPT by OpenAI: Unleashing the Power of Technology',\n",
       "  'year': 2023,\n",
       "  'authors': [{'authorId': '2204312702', 'name': 'Thomas Yue'},\n",
       "   {'authorId': '2187372354', 'name': 'David Au'},\n",
       "   {'authorId': '2204329476', 'name': 'Chi Chung Au'},\n",
       "   {'authorId': '92809033', 'name': 'Kwansai Iu'}]},\n",
       " {'paperId': '20da6ad1068a8a609daa5ab16af3afc62e5f2b89',\n",
       "  'title': 'ChatGPT Is Shaping the Future of Medical Writing but Still Requires Human Judgment.',\n",
       "  'year': 2023,\n",
       "  'authors': [{'authorId': '2091400886', 'name': 'F. Kitamura'}]},\n",
       " {'paperId': '688786138c179a7cb3e9565dd99f7630320e6beb',\n",
       "  'title': 'Who’s Afraid of ChatGPT? An Examination of ChatGPT’s Implications for Legal Writing',\n",
       "  'year': 2023,\n",
       "  'authors': [{'authorId': '2174089984', 'name': 'Ashley B. Armstrong'}]},\n",
       " {'paperId': '7b6a8c6d44e0f77bf930484e438d77b7465a69fb',\n",
       "  'title': 'Education in the Era of Generative Artificial Intelligence (AI): Understanding the Potential Benefits of ChatGPT in Promoting Teaching and Learning',\n",
       "  'year': 2023,\n",
       "  'authors': [{'authorId': '1411783122', 'name': 'David Baidoo-Anu'},\n",
       "   {'authorId': '2203232571', 'name': 'Leticia Owusu Ansah'}]},\n",
       " {'paperId': 'd8459994ffc42e6ac021e47cfa840e144d42e354',\n",
       "  'title': 'Information Literacy, Data Literacy, Privacy Literacy, and ChatGPT: Technology Literacies Align with Perspectives on Emerging Technology Adoption within Communities',\n",
       "  'year': 2023,\n",
       "  'authors': [{'authorId': '2000639769', 'name': 'Brady D. Lund'},\n",
       "   {'authorId': '75067375', 'name': 'Daniel A. Agbaji'}]},\n",
       " {'paperId': '4b16838eace10cad525641b3568ecedebe12495b',\n",
       "  'title': \"Chatgpt's Scientific Writings: A Case Study on Traffic Safety\",\n",
       "  'year': 2023,\n",
       "  'authors': [{'authorId': '14936984', 'name': 'Boniphace Kutela'},\n",
       "   {'authorId': '2204047232', 'name': 'Kelvin Msechu'},\n",
       "   {'authorId': '2109619283', 'name': 'Subasish Das'},\n",
       "   {'authorId': '51057895', 'name': 'E. Kidando'}]},\n",
       " {'paperId': 'b465f197feb976140b40fe059101c8d5b4439645',\n",
       "  'title': 'Daily briefing: ChatGPT listed as author on research papers.',\n",
       "  'year': 2023,\n",
       "  'authors': [{'authorId': '82335473', 'name': 'Flora Graham'}]},\n",
       " {'paperId': '5f996fd3592478b6923590ed5347d6206357e95a',\n",
       "  'title': 'What ChatGPT and generative AI mean for science',\n",
       "  'year': 2023,\n",
       "  'authors': [{'authorId': '1413934873', 'name': 'Chris Stokel-Walker'},\n",
       "   {'authorId': '46619889', 'name': 'Richard van Noorden'}]},\n",
       " {'paperId': '024fee7fa8037178e4ead71baa41304e85512bfe',\n",
       "  'title': 'ChatGPT Intimates a Tantalizing Future; Its core LLM is Organized on Multiple Levels; and it has Broken the Idea of Thinking, Version 2',\n",
       "  'year': 2023,\n",
       "  'authors': [{'authorId': '3195738', 'name': 'W. Benzon'}]},\n",
       " {'paperId': '0c51893d25117c39a9e84c1e021ce4a23970f011',\n",
       "  'title': 'The Usefulness and Challenges of Chatbots for Accounting Professionals: Application On ChatGPT',\n",
       "  'year': 2023,\n",
       "  'authors': [{'authorId': '120966380', 'name': 'Hashem Alshurafat'}]},\n",
       " {'paperId': 'e895220a07df035c558eb7fd2d2bcd1621c710cb',\n",
       "  'title': 'Some initial lessons from using ChatGPT and what I will tell my Macroeconomics students',\n",
       "  'year': 2023,\n",
       "  'authors': [{'authorId': '2202694461', 'name': 'Stefania Paredes Fuentes'}]},\n",
       " {'paperId': 'ce4f78d38e5ae6b3b8361016b2fbb173deb64b8e',\n",
       "  'title': 'Letter to Editor: NLP systems such as ChatGPT cannot be listed as an author because these cannot fulfill widely adopted authorship criteria.',\n",
       "  'year': 2023,\n",
       "  'authors': [{'authorId': None, 'name': 'Nicole Shu Ling Yeo-Teh'},\n",
       "   {'authorId': None, 'name': 'Bor Luen Tang'}]},\n",
       " {'paperId': 'c4d96dfef7b67ea371354b416d1e458aa65f8177',\n",
       "  'title': 'Is ChatGPT Leading Generative AI? What is Beyond Expectations?',\n",
       "  'year': 2023,\n",
       "  'authors': [{'authorId': '30528739', 'name': 'Ömer Aydın'},\n",
       "   {'authorId': '40631192', 'name': 'Enis Karaarslan'}]},\n",
       " {'paperId': 'd410f915eeb9c92a2970568338804261f1377331',\n",
       "  'title': 'ChatGPT or Human? Detect and Explain. Explaining Decisions of Machine Learning Model for Detecting Short ChatGPT-generated Text',\n",
       "  'year': 2023,\n",
       "  'authors': [{'authorId': '2203427954', 'name': \"Sandra Mitrovi'c\"},\n",
       "   {'authorId': '7469234', 'name': 'Davide Andreoletti'},\n",
       "   {'authorId': '40120784', 'name': 'Omran Ayoub'}]},\n",
       " {'paperId': 'e5a372a58a6118a58c3c429d094c81e94a90992c',\n",
       "  'title': 'ChatGPT, An Artificial Intelligence Chatbot, Is Impacting Medical Literature',\n",
       "  'year': 2023,\n",
       "  'authors': [{'authorId': '2175437221', 'name': 'James H. Lubowitz'}]},\n",
       " {'paperId': '2c663df7e633d641f01885aa8ffb7d4262c13d96',\n",
       "  'title': 'Use of ChatGPT in Academic Publishing: A Rare Case of Seronegative Systemic Lupus Erythematosus in a Patient With HIV Infection',\n",
       "  'year': 2023,\n",
       "  'authors': [{'authorId': '49494539', 'name': 'Naveen Manohar'},\n",
       "   {'authorId': None, 'name': 'Shruthi S Prasad'}]},\n",
       " {'paperId': '55c75a0d583f847b3bc528d61d2da6b0aca1427f',\n",
       "  'title': 'Discursive Competence in ChatGPT, Part 1: Talking with Dragons',\n",
       "  'year': 2023,\n",
       "  'authors': [{'authorId': '3195738', 'name': 'W. Benzon'}]},\n",
       " {'paperId': 'd32adaaf927c7fcfcde42e5add984c39b2bb8bd6',\n",
       "  'title': 'Daily briefing: Science urgently needs a plan for ChatGPT.',\n",
       "  'year': 2023,\n",
       "  'authors': [{'authorId': None, 'name': 'Flora Graham'}]},\n",
       " {'paperId': '992be993d9dba7000b0a415a44c5e43042fe2452',\n",
       "  'title': 'ChatGPT for (Finance) Research: The Bananarama Conjecture',\n",
       "  'year': 2023,\n",
       "  'authors': [{'authorId': '145985638', 'name': 'M. Dowling'},\n",
       "   {'authorId': '144647699', 'name': 'B. Lucey'}]},\n",
       " {'paperId': 'bbd126759a1c43b3b829f44c201a2c1ad1ffa1e4',\n",
       "  'title': 'ChatGPT for Next Generation Science Learning',\n",
       "  'year': 2023,\n",
       "  'authors': [{'authorId': '2202162761', 'name': 'Xiaoming Zhai'}]},\n",
       " {'paperId': 'c141baa361ae64d45764142f8eb7cdff14991933',\n",
       "  'title': 'Issues in the 3rd year of the COVID-19 pandemic, including computer-based testing, study design, ChatGPT, journal metrics, and appreciation to reviewers.',\n",
       "  'year': 2023,\n",
       "  'authors': [{'authorId': '143918822', 'name': 'Sun Huh'}]},\n",
       " {'paperId': '669e09e5a911e2ea70ade1962f39e3b276724fde',\n",
       "  'title': 'ChatGPT can find and fix the bugs in computer code',\n",
       "  'year': 2023,\n",
       "  'authors': [{'authorId': '1413934873', 'name': 'Chris Stokel-Walker'}]},\n",
       " {'paperId': '6ea22dc509377c076abca0d668ff6404661f4bce',\n",
       "  'title': 'ChatGPT & Generative AI Systems as Quasi-Expert Legal Advice Lawyers - Case Study Considering Potential Appeal Against Conviction of Tom Hayes',\n",
       "  'year': 2023,\n",
       "  'authors': [{'authorId': '1423468758', 'name': 'Rupert Macey-Dare'}]},\n",
       " {'paperId': 'f27dd152582b9da3c3a879025eceaebbf2a50752',\n",
       "  'title': 'Chatting about ChatGPT: How May AI and GPT Impact Academia and Libraries?',\n",
       "  'year': 2023,\n",
       "  'authors': [{'authorId': '66673215', 'name': 'B. Lund'},\n",
       "   {'authorId': '2203795113', 'name': 'Wang Ting'}]},\n",
       " {'paperId': '8c74508785111193ae5171b83cce419e539e0c42',\n",
       "  'title': 'The AI writing on the wall',\n",
       "  'year': 2023,\n",
       "  'authors': []},\n",
       " {'paperId': 'c339ab1edf45f8e789c550907d9fece8ca4a3d24',\n",
       "  'title': 'Welcome to the AI future?',\n",
       "  'year': 2023,\n",
       "  'authors': []},\n",
       " {'paperId': 'c0f3072aeab373fd64c98126afe1b3964ed3438d',\n",
       "  'title': 'Chatbots in a Honeypot World',\n",
       "  'year': 2023,\n",
       "  'authors': [{'authorId': '2197525782', 'name': 'Forrest McKee'},\n",
       "   {'authorId': '46787948', 'name': 'David Noever'}]},\n",
       " {'paperId': 'cc4bac2342a3189a43fc8f63820c74e9b1584828',\n",
       "  'title': 'Chatbots as Problem Solvers: Playing Twenty Questions with Role Reversals',\n",
       "  'year': 2023,\n",
       "  'authors': [{'authorId': '46787948', 'name': 'David Noever'},\n",
       "   {'authorId': '2197525782', 'name': 'Forrest McKee'}]},\n",
       " {'paperId': '974e75813699f7fba8a71b58001e4bfda9c5231b',\n",
       "  'title': 'Languages are Rewards: Hindsight Finetuning using Human Feedback',\n",
       "  'year': 2023,\n",
       "  'authors': [{'authorId': '2143856672', 'name': 'Hao Liu'},\n",
       "   {'authorId': '47218071', 'name': 'Carmelo Sferrazza'},\n",
       "   {'authorId': '1689992', 'name': 'P. Abbeel'}]},\n",
       " {'paperId': 'f0ea9e2d3889d37f34743ed1dc64f11e8e0484de',\n",
       "  'title': 'Numeracy from Literacy: Data Science as an Emergent Skill from Large Language Models',\n",
       "  'year': 2023,\n",
       "  'authors': [{'authorId': '46787948', 'name': 'David Noever'},\n",
       "   {'authorId': '2197525782', 'name': 'Forrest McKee'}]},\n",
       " {'paperId': 'dfc66a53c836846d524765f44e111c94ebd2ad37',\n",
       "  'title': 'Impact of Artificial Intelligence on Dental Education: A Review and Guide for Curriculum Update',\n",
       "  'year': 2023,\n",
       "  'authors': [{'authorId': '9043564', 'name': 'Andrej Thurzo'},\n",
       "   {'authorId': '117988403', 'name': 'M. Strunga'},\n",
       "   {'authorId': '48479577', 'name': 'R. Urban'},\n",
       "   {'authorId': '2187955838', 'name': 'Jana Surovková'},\n",
       "   {'authorId': '2142706255', 'name': 'K. Afrashtehfar'}]},\n",
       " {'paperId': '1853a05df0ac03f8e4445ec65f7599359e89fb2b',\n",
       "  'title': 'ThoughtSource: A central hub for large language model reasoning data',\n",
       "  'year': 2023,\n",
       "  'authors': [{'authorId': '119994729', 'name': 'Simon Ott'},\n",
       "   {'authorId': '2203247685', 'name': 'Konstantin Hebenstreit'},\n",
       "   {'authorId': '2067078585', 'name': \"Valentin Li'evin\"},\n",
       "   {'authorId': '4475692', 'name': 'C. Hother'},\n",
       "   {'authorId': '144334436', 'name': 'M. Moradi'},\n",
       "   {'authorId': '2104625194', 'name': 'Maximilian Mayrhauser'},\n",
       "   {'authorId': '2203245379', 'name': 'Robert Praas'},\n",
       "   {'authorId': '1724252', 'name': 'O. Winther'},\n",
       "   {'authorId': '3004898', 'name': 'M. Samwald'}]},\n",
       " {'paperId': '074baf835aec44a100990178859b35451975f339',\n",
       "  'title': 'Navigating Complexity in Software Engineering: A Prototype for Comparing GPT-n Solutions',\n",
       "  'year': 2023,\n",
       "  'authors': [{'authorId': '1685418', 'name': 'Christoph Treude'}]},\n",
       " {'paperId': 'f4db4a18080e9e4ebba9ba68bb7d34230c84d0c3',\n",
       "  'title': 'Truth Machines: Synthesizing Veracity in AI Language Models',\n",
       "  'year': 2023,\n",
       "  'authors': [{'authorId': '73236053', 'name': 'Luke Munn'},\n",
       "   {'authorId': '2733075', 'name': 'L. Magee'},\n",
       "   {'authorId': '121615955', 'name': 'Vanicka Arora'}]},\n",
       " {'paperId': '6962b1a6164e6028def3326f83d30a1bd3701d04',\n",
       "  'title': 'Why Proposal Review Should Be More Like Meteorology',\n",
       "  'year': 2023,\n",
       "  'authors': [{'authorId': '2073872541', 'name': 'S. Buck'}]},\n",
       " {'paperId': '1bfe1e6626067e9075570c575153e2b366f9d6cf',\n",
       "  'title': 'Could an Artificial-Intelligence agent pass an introductory physics course?',\n",
       "  'year': 2023,\n",
       "  'authors': [{'authorId': '3296536', 'name': 'G. Kortemeyer'}]},\n",
       " {'paperId': 'c74857ae0369fbeb229795eab2f2c63765cae4dd',\n",
       "  'title': 'HPV training',\n",
       "  'year': 2023,\n",
       "  'authors': [{'authorId': '51027918', 'name': 'A. Kaushik'}]},\n",
       " {'paperId': '680c72c29b518398d9c45b5995a160583ea8e090',\n",
       "  'title': 'Analysis of large-language model versus human performance for genetics questions',\n",
       "  'year': 2023,\n",
       "  'authors': [{'authorId': '2115335067', 'name': 'D. Duong'},\n",
       "   {'authorId': '2110362084', 'name': 'B. D. Solomon'}]},\n",
       " {'paperId': '767b18caa5a389272bcc6966c7ba6f96113bd926',\n",
       "  'title': 'Maßnahmen gegen Hass im Netz: Das Wichtigste aus dem Herbst 2022',\n",
       "  'year': 2023,\n",
       "  'authors': [{'authorId': '2091007360', 'name': 'Maik Fielitz'},\n",
       "   {'authorId': '114339363', 'name': 'Holger Marcks'},\n",
       "   {'authorId': '2202563157', 'name': 'Harald Sick'},\n",
       "   {'authorId': '2202557246', 'name': 'Hendrik Bitzmann'}]},\n",
       " {'paperId': '672ff4a42de1bfc18b38d3d03195544715847ee1',\n",
       "  'title': 'Artificial Intelligence, Basic Skills, and Quantitative Literacy',\n",
       "  'year': 2023,\n",
       "  'authors': [{'authorId': '3099078', 'name': 'Gizem Karaali'}]},\n",
       " {'paperId': '288078127a3078332230442170f6745ed333c700',\n",
       "  'title': 'A Conversation on Artificial Intelligence, Chatbots, and Plagiarism in Higher Education',\n",
       "  'year': 2023,\n",
       "  'authors': [{'authorId': '152378504', 'name': 'Michael R King'},\n",
       "   {'authorId': '2196932745', 'name': 'chatGPT'}]},\n",
       " {'paperId': '3883e49fc62b1f867d19f6550924126783ee2376',\n",
       "  'title': 'Modeling Label Semantics Improves Activity Recognition',\n",
       "  'year': 2023,\n",
       "  'authors': [{'authorId': '2108217022', 'name': 'Xiyuan Zhang'},\n",
       "   {'authorId': '134629191', 'name': 'Ranak Roy Chowdhury'},\n",
       "   {'authorId': '2505157', 'name': 'Dezhi Hong'},\n",
       "   {'authorId': '2110343779', 'name': 'Rajesh K. Gupta'},\n",
       "   {'authorId': '2163679367', 'name': 'Jingbo Shang'}]},\n",
       " {'paperId': 'a23e0cf74f10b6a3061ab71497fe2c8c476fecd1',\n",
       "  'title': 'Conversational Automated Program Repair',\n",
       "  'year': 2023,\n",
       "  'authors': [{'authorId': '145349987', 'name': 'Chun Xia'},\n",
       "   {'authorId': '2145398332', 'name': 'Lingming Zhang'}]},\n",
       " {'paperId': 'a9c0d7bad124697e370a1b345508b6bc618a4f64',\n",
       "  'title': 'Ethics of generative AI',\n",
       "  'year': 2023,\n",
       "  'authors': [{'authorId': '14907572', 'name': 'Hazem Zohny'},\n",
       "   {'authorId': '2086699077', 'name': 'J. McMillan'},\n",
       "   {'authorId': '2070836888', 'name': 'M. King'}]},\n",
       " {'paperId': '9422fab4f79d16c79fce6d4da7889ad832342f6d',\n",
       "  'title': 'AI-enabled transformations in telecommunications industry',\n",
       "  'year': 2023,\n",
       "  'authors': [{'authorId': '2115776021', 'name': 'Muhammad Khurram Khan'}]}]"
      ]
     },
     "execution_count": 8,
     "metadata": {},
     "output_type": "execute_result"
    }
   ],
   "source": [
    "r.json()[\"data\"]"
   ]
  },
  {
   "attachments": {},
   "cell_type": "markdown",
   "id": "34479249",
   "metadata": {},
   "source": [
    "# Week 2"
   ]
  },
  {
   "cell_type": "code",
   "execution_count": 11,
   "id": "95930802",
   "metadata": {},
   "outputs": [
    {
     "data": {
      "text/html": [
       "<div>\n",
       "<style scoped>\n",
       "    .dataframe tbody tr th:only-of-type {\n",
       "        vertical-align: middle;\n",
       "    }\n",
       "\n",
       "    .dataframe tbody tr th {\n",
       "        vertical-align: top;\n",
       "    }\n",
       "\n",
       "    .dataframe thead th {\n",
       "        text-align: right;\n",
       "    }\n",
       "</style>\n",
       "<table border=\"1\" class=\"dataframe\">\n",
       "  <thead>\n",
       "    <tr style=\"text-align: right;\">\n",
       "      <th></th>\n",
       "      <th>author</th>\n",
       "    </tr>\n",
       "  </thead>\n",
       "  <tbody>\n",
       "    <tr>\n",
       "      <th>0</th>\n",
       "      <td>A. Gül Gökay Emel</td>\n",
       "    </tr>\n",
       "    <tr>\n",
       "      <th>1</th>\n",
       "      <td>Aaron Clauset</td>\n",
       "    </tr>\n",
       "    <tr>\n",
       "      <th>2</th>\n",
       "      <td>Aaron Cluaset</td>\n",
       "    </tr>\n",
       "    <tr>\n",
       "      <th>3</th>\n",
       "      <td>Aaron Halfaker</td>\n",
       "    </tr>\n",
       "    <tr>\n",
       "      <th>4</th>\n",
       "      <td>Aaron Schecter</td>\n",
       "    </tr>\n",
       "  </tbody>\n",
       "</table>\n",
       "</div>"
      ],
      "text/plain": [
       "              author\n",
       "0  A. Gül Gökay Emel\n",
       "1      Aaron Clauset\n",
       "2      Aaron Cluaset\n",
       "3     Aaron Halfaker\n",
       "4     Aaron Schecter"
      ]
     },
     "execution_count": 11,
     "metadata": {},
     "output_type": "execute_result"
    }
   ],
   "source": [
    "import pandas as pd\n",
    "import numpy as np\n",
    "df2019 = pd.read_csv(\"2019_poster.csv\")\n",
    "df2020 = pd.read_csv(\"2020.csv\")\n",
    "df2021 = pd.read_csv(\"2021.csv\")\n",
    "\n",
    "names2019 = np.array(df2019.author)\n",
    "names2020 = np.array(df2020.author)\n",
    "names2021 = np.array(df2021.author)\n",
    "\n",
    "names = np.concatenate([names2019, names2020, names2021])\n",
    "names_final = np.unique(names)\n",
    "df = pd.DataFrame(names_final, columns=['author'])\n",
    "df.head()\n"
   ]
  },
  {
   "cell_type": "code",
   "execution_count": 19,
   "id": "29f324d6",
   "metadata": {},
   "outputs": [],
   "source": [
    "df.to_csv(\"authors.csv\", index=False)"
   ]
  },
  {
   "cell_type": "code",
   "execution_count": 18,
   "id": "0c570aed",
   "metadata": {},
   "outputs": [
    {
     "data": {
      "text/plain": [
       "'A. Gül Gökay Emel'"
      ]
     },
     "execution_count": 18,
     "metadata": {},
     "output_type": "execute_result"
    }
   ],
   "source": [
    "names_final[0]"
   ]
  },
  {
   "cell_type": "code",
   "execution_count": 154,
   "id": "dc0fb3bd",
   "metadata": {},
   "outputs": [
    {
     "data": {
      "text/plain": [
       "{'query': 'Jennifer Pan', 'limit': 1, 'fields': 'papers.authors'}"
      ]
     },
     "execution_count": 154,
     "metadata": {},
     "output_type": "execute_result"
    }
   ],
   "source": [
    "BASE_URL = \"https://api.semanticscholar.org/graph/\"\n",
    "VERSION = \"v1/\"\n",
    "RESOURCE = \"author/search\"\n",
    "\n",
    "params = {'query':names_final[813],\n",
    "          'fields': \"papers.authors\"\n",
    "}\n",
    "\n",
    "my_url = BASE_URL + VERSION + RESOURCE\n",
    "\n",
    "params"
   ]
  },
  {
   "cell_type": "code",
   "execution_count": 136,
   "id": "053efa80",
   "metadata": {},
   "outputs": [
    {
     "ename": "KeyError",
     "evalue": "'data'",
     "output_type": "error",
     "traceback": [
      "\u001b[0;31m---------------------------------------------------------------------------\u001b[0m",
      "\u001b[0;31mKeyError\u001b[0m                                  Traceback (most recent call last)",
      "Cell \u001b[0;32mIn[136], line 19\u001b[0m\n\u001b[1;32m     13\u001b[0m params \u001b[39m=\u001b[39m {\u001b[39m'\u001b[39m\u001b[39mquery\u001b[39m\u001b[39m'\u001b[39m:name,\n\u001b[1;32m     14\u001b[0m       \u001b[39m'\u001b[39m\u001b[39mlimit\u001b[39m\u001b[39m'\u001b[39m: \u001b[39m1\u001b[39m,\n\u001b[1;32m     15\u001b[0m       \u001b[39m'\u001b[39m\u001b[39mfields\u001b[39m\u001b[39m'\u001b[39m: \u001b[39m\"\u001b[39m\u001b[39mpapers.authors\u001b[39m\u001b[39m\"\u001b[39m\n\u001b[1;32m     16\u001b[0m       }\n\u001b[1;32m     18\u001b[0m r \u001b[39m=\u001b[39m requests\u001b[39m.\u001b[39mget(my_url, params\u001b[39m=\u001b[39mparams)\n\u001b[0;32m---> 19\u001b[0m \u001b[39mif\u001b[39;00m \u001b[39mlen\u001b[39m(r\u001b[39m.\u001b[39;49mjson()[\u001b[39m'\u001b[39;49m\u001b[39mdata\u001b[39;49m\u001b[39m'\u001b[39;49m]) \u001b[39m==\u001b[39m \u001b[39m0\u001b[39m:\n\u001b[1;32m     20\u001b[0m     \u001b[39mcontinue\u001b[39;00m\n\u001b[1;32m     21\u001b[0m \u001b[39mif\u001b[39;00m r\u001b[39m.\u001b[39mstatus_code \u001b[39m==\u001b[39m \u001b[39m200\u001b[39m \u001b[39mand\u001b[39;00m \u001b[39mlen\u001b[39m(r\u001b[39m.\u001b[39mjson()[\u001b[39m'\u001b[39m\u001b[39mdata\u001b[39m\u001b[39m'\u001b[39m]) \u001b[39m>\u001b[39m \u001b[39m0\u001b[39m:\n",
      "\u001b[0;31mKeyError\u001b[0m: 'data'"
     ]
    }
   ],
   "source": [
    "import time\n",
    "from tqdm import tqdm\n",
    "\n",
    "BASE_URL = \"https://api.semanticscholar.org/graph/\"\n",
    "VERSION = \"v1/\"\n",
    "RESOURCE = \"author/search\"\n",
    "\n",
    "my_url = BASE_URL + VERSION + RESOURCE\n",
    "\n",
    "ids = []\n",
    "\n",
    "for name in names_final:\n",
    "    params = {'query':name,\n",
    "          'limit': 1,\n",
    "          'fields': \"papers.authors\"\n",
    "          }\n",
    "\n",
    "    r = requests.get(my_url, params=params)\n",
    "    if len(r.json()['data']) == 0:\n",
    "        continue\n",
    "    if r.status_code == 200 and len(r.json()['data']) > 0:\n",
    "        temp = r.json()['data'][0]['papers'][0]['authors']\n",
    "        temp_ids = [author['authorId'] for author in temp]\n",
    "        ids.extend(temp_ids)\n",
    "    else:\n",
    "        status = False\n",
    "        while status == False:\n",
    "            print(\"Sleepin'\")\n",
    "            time.sleep(30)\n",
    "            r = requests.get(my_url, params=params)\n",
    "            if len(r.json()['data']) == 0:\n",
    "                continue\n",
    "            if r.status_code == 200 and len(r.json()['data']) > 0:\n",
    "                temp = r.json()['data'][0]['papers'][0]['authors']\n",
    "                temp_ids = [int(author['authorId']) for author in temp]\n",
    "                ids.extend(temp_ids)\n",
    "                status = True\n",
    "                \n",
    "            \n",
    "ids\n"
   ]
  },
  {
   "cell_type": "code",
   "execution_count": 141,
   "id": "4bd38d4f",
   "metadata": {},
   "outputs": [],
   "source": [
    "BASE_URL = \"https://api.semanticscholar.org/graph/\"\n",
    "VERSION = \"v1/\"\n",
    "RESOURCE = \"author/search\"\n",
    "\n",
    "my_url = BASE_URL + VERSION + RESOURCE\n",
    "\n",
    "ids = []\n",
    "\n",
    "    "
   ]
  },
  {
   "cell_type": "code",
   "execution_count": 162,
   "id": "95044c7c",
   "metadata": {},
   "outputs": [],
   "source": [
    "def get_request(name):\n",
    "    params = {'query':name,\n",
    "              'limit': 1,\n",
    "              'fields': \"papers.authors\"\n",
    "              }\n",
    "    r = requests.get(my_url, params=params)\n",
    "    if r.status_code != 200:\n",
    "        time.sleep(30)\n",
    "        get_request(name)\n",
    "\n",
    "    return r.json()\n",
    "    \n",
    "def get_ids(r):\n",
    "    if 'data' not in r.keys():\n",
    "        return None\n",
    "    \n",
    "    if len(r['data']) == 0:\n",
    "        return None\n",
    "\n",
    "    if len(r['data'][0]['papers']) == 0:\n",
    "        ids.extend(r['data'][0]['authorId'])\n",
    "        return None\n",
    "        \n",
    "    temp = r['data'][0]['papers'][0]['authors']\n",
    "    temp_ids = [author['authorId'] for author in temp]\n",
    "    ids.extend(temp_ids)"
   ]
  },
  {
   "cell_type": "code",
   "execution_count": null,
   "id": "3f5578c7",
   "metadata": {},
   "outputs": [],
   "source": [
    "for name in tqdm(names_final):\n",
    "    get_ids(get_request(name))"
   ]
  },
  {
   "cell_type": "code",
   "execution_count": 163,
   "id": "7176a3e2",
   "metadata": {},
   "outputs": [
    {
     "name": "stderr",
     "output_type": "stream",
     "text": [
      "100%|██████████| 1095/1095 [36:48<00:00,  2.02s/it]  \n"
     ]
    }
   ],
   "source": [
    "for name in tqdm(names_final[812:]):\n",
    "    get_ids(get_request(name))"
   ]
  },
  {
   "cell_type": "code",
   "execution_count": 168,
   "id": "33929e39",
   "metadata": {},
   "outputs": [],
   "source": [
    "#len(ids)\n",
    "ids_short = pd.DataFrame(ids, columns=['authorId'])\n",
    "ids_short.to_csv('ids_short.csv', index=False)\n"
   ]
  },
  {
   "cell_type": "code",
   "execution_count": 171,
   "id": "cc50a2c1",
   "metadata": {},
   "outputs": [],
   "source": [
    "BASE_URL = \"https://api.semanticscholar.org/graph/\"\n",
    "VERSION = \"v1/\"\n",
    "RESOURCE = \"author/search\"\n",
    "\n",
    "params = {'query':names_final[100],\n",
    "          'fields': \"papers.authors\"\n",
    "}\n",
    "\n",
    "my_url = BASE_URL + VERSION + RESOURCE"
   ]
  },
  {
   "cell_type": "code",
   "execution_count": 184,
   "id": "b1cb8a0f",
   "metadata": {},
   "outputs": [],
   "source": [
    "r = requests.get(my_url, params=params)\n",
    "ost = []\n",
    "for paper in r.json()['data'][0]['papers']:\n",
    "    aut = paper['authors']\n",
    "    aut_ids = [author['authorId'] for author in aut]\n",
    "    ost.extend(aut_ids)\n"
   ]
  },
  {
   "attachments": {},
   "cell_type": "markdown",
   "id": "eb15337d",
   "metadata": {},
   "source": [
    "## Get ALL Ids"
   ]
  },
  {
   "cell_type": "code",
   "execution_count": null,
   "id": "ddb513f5",
   "metadata": {},
   "outputs": [],
   "source": [
    "all_ids = []"
   ]
  },
  {
   "cell_type": "code",
   "execution_count": 224,
   "id": "6d6aea7f",
   "metadata": {},
   "outputs": [],
   "source": [
    "def get_request(name):\n",
    "    params = {'query':name,\n",
    "              'fields': \"papers.authors\"\n",
    "              }\n",
    "    r = requests.get(my_url, params=params)\n",
    "\n",
    "    if r.status_code == 500:\n",
    "        return {}\n",
    "        \n",
    "    if r.status_code != 200:\n",
    "        time.sleep(30)\n",
    "        get_request(name)\n",
    "\n",
    "    return r.json()\n",
    "    \n",
    "def get_all_ids(r):\n",
    "    if 'data' not in r.keys():\n",
    "        return None\n",
    "    \n",
    "    if len(r['data']) == 0:\n",
    "        return None\n",
    "\n",
    "    if len(r['data'][0]['papers']) == 0:\n",
    "        ids.extend(r['data'][0]['authorId'])\n",
    "        return None\n",
    "        \n",
    "    for paper in r['data'][0]['papers']:\n",
    "        aut = paper['authors']\n",
    "        aut_ids = [author['authorId'] for author in aut]\n",
    "        all_ids.extend(aut_ids)\n"
   ]
  },
  {
   "cell_type": "code",
   "execution_count": 238,
   "id": "4eaf20ae",
   "metadata": {},
   "outputs": [],
   "source": [
    "for name in tqdm(names_final):\n",
    "    get_all_ids(get_request(name))\n"
   ]
  },
  {
   "cell_type": "code",
   "execution_count": 227,
   "id": "52c6d1be",
   "metadata": {},
   "outputs": [],
   "source": [
    "authorIds = list(set(all_ids))"
   ]
  },
  {
   "cell_type": "code",
   "execution_count": 237,
   "id": "efd7fd58",
   "metadata": {},
   "outputs": [],
   "source": [
    "all_authors = pd.DataFrame(authorIds, columns=['authorId'])\n",
    "all_authors.to_csv(\"all_authors.csv\", index=False)\n"
   ]
  },
  {
   "attachments": {},
   "cell_type": "markdown",
   "id": "e16047b4",
   "metadata": {},
   "source": [
    "## Data set construction\n",
    "\n",
    "We now have all the author Ids that we want, and we now construct the data sets"
   ]
  },
  {
   "cell_type": "code",
   "execution_count": 272,
   "id": "2ebce0c2",
   "metadata": {},
   "outputs": [
    {
     "data": {
      "text/html": [
       "<div>\n",
       "<style scoped>\n",
       "    .dataframe tbody tr th:only-of-type {\n",
       "        vertical-align: middle;\n",
       "    }\n",
       "\n",
       "    .dataframe tbody tr th {\n",
       "        vertical-align: top;\n",
       "    }\n",
       "\n",
       "    .dataframe thead th {\n",
       "        text-align: right;\n",
       "    }\n",
       "</style>\n",
       "<table border=\"1\" class=\"dataframe\">\n",
       "  <thead>\n",
       "    <tr style=\"text-align: right;\">\n",
       "      <th></th>\n",
       "      <th>authorId</th>\n",
       "    </tr>\n",
       "  </thead>\n",
       "  <tbody>\n",
       "    <tr>\n",
       "      <th>0</th>\n",
       "      <td>2773799</td>\n",
       "    </tr>\n",
       "    <tr>\n",
       "      <th>1</th>\n",
       "      <td>1399712184</td>\n",
       "    </tr>\n",
       "    <tr>\n",
       "      <th>2</th>\n",
       "      <td>50197963</td>\n",
       "    </tr>\n",
       "    <tr>\n",
       "      <th>3</th>\n",
       "      <td>3530609</td>\n",
       "    </tr>\n",
       "    <tr>\n",
       "      <th>4</th>\n",
       "      <td>84242025</td>\n",
       "    </tr>\n",
       "  </tbody>\n",
       "</table>\n",
       "</div>"
      ],
      "text/plain": [
       "     authorId\n",
       "0     2773799\n",
       "1  1399712184\n",
       "2    50197963\n",
       "3     3530609\n",
       "4    84242025"
      ]
     },
     "execution_count": 272,
     "metadata": {},
     "output_type": "execute_result"
    }
   ],
   "source": [
    "all_authors.head()"
   ]
  },
  {
   "cell_type": "code",
   "execution_count": 395,
   "id": "29e21b22",
   "metadata": {},
   "outputs": [],
   "source": [
    "BASE_URL = \"https://api.semanticscholar.org/graph/\"\n",
    "VERSION = \"v1/\"\n",
    "RESOURCE = \"author/batch\"\n",
    "FIELDS = \"?fields=name,aliases,papers.title,papers.abstract,papers.year,papers.externalIds,papers.s2FieldsOfStudy,papers.citationCount,papers.authors\"\n",
    "\n",
    "params = {\"ids\": ['2773799','1399712184']}\n",
    "\n",
    "my_url = BASE_URL + VERSION + RESOURCE + FIELDS\n",
    "\n"
   ]
  },
  {
   "cell_type": "code",
   "execution_count": 422,
   "id": "5ff17078",
   "metadata": {},
   "outputs": [
    {
     "data": {
      "text/plain": [
       "{'paperId': '825f85375bba977cd3ad78ac1ba22c7fae5609fb',\n",
       " 'externalIds': {'PubMedCentral': '9045324',\n",
       "  'DOI': '10.1128/spectrum.02434-21',\n",
       "  'CorpusId': 247938320,\n",
       "  'PubMed': '35377231'},\n",
       " 'title': 'Reference-Grade Genome and Large Linear Plasmid of Streptomyces rimosus: Pushing the Limits of Nanopore Sequencing',\n",
       " 'abstract': 'The genomes of Streptomyces species are difficult to assemble due to long repeats, extrachromosomal elements (giant linear plasmids [GLPs]), rearrangements, and high GC content. To improve the quality of the S. rimosus ATCC 10970 genome, producer of oxytetracycline, we validated the assembly of GLPs by applying a new approach to combine pulsed-field gel electrophoresis separation and GLP isolation and sequenced the isolated GLP with Oxford Nanopore technology. ABSTRACT Streptomyces rimosus ATCC 10970 is the parental strain of industrial strains used for the commercial production of the important antibiotic oxytetracycline. As an actinobacterium with a large linear chromosome containing numerous long repeat regions, high GC content, and a single giant linear plasmid (GLP), these genomes are challenging to assemble. Here, we apply a hybrid sequencing approach relying on the combination of short- and long-read next-generation sequencing platforms and whole-genome restriction analysis by using pulsed-field gel electrophoresis (PFGE) to produce a high-quality reference genome for this biotechnologically important bacterium. By using PFGE to separate and isolate plasmid DNA from chromosomal DNA, we successfully sequenced the GLP using Nanopore data alone. Using this approach, we compared the sequence of GLP in the parent strain ATCC 10970 with those found in two semi-industrial progenitor strains, R6-500 and M4018. Sequencing of the GLP of these three S. rimosus strains shed light on several rearrangements accompanied by transposase genes, suggesting that transposases play an important role in plasmid and genome plasticity in S. rimosus. The polished annotation of secondary metabolite biosynthetic pathways compared to metabolite analysis in the ATCC 10970 strain also refined our knowledge of the secondary metabolite arsenal of these strains. The proposed methodology is highly applicable to a variety of sequencing projects, as evidenced by the reliable assemblies obtained. IMPORTANCE The genomes of Streptomyces species are difficult to assemble due to long repeats, extrachromosomal elements (giant linear plasmids [GLPs]), rearrangements, and high GC content. To improve the quality of the S. rimosus ATCC 10970 genome, producer of oxytetracycline, we validated the assembly of GLPs by applying a new approach to combine pulsed-field gel electrophoresis separation and GLP isolation and sequenced the isolated GLP with Oxford Nanopore technology. By examining the sequenced plasmids of ATCC 10970 and two industrial progenitor strains, R6-500 and M4018, we identified large GLP rearrangements. Analysis of the assembled plasmid sequences shed light on the role of transposases in genome plasticity of this species. The new methodological approach developed for Nanopore sequencing is highly applicable to a variety of sequencing projects. In addition, we present the annotated reference genome sequence of ATCC 10970 with a detailed analysis of the biosynthetic gene clusters.',\n",
       " 'year': 2022,\n",
       " 'citationCount': 1,\n",
       " 's2FieldsOfStudy': [{'category': 'Biology', 'source': 's2-fos-model'},\n",
       "  {'category': 'Engineering', 'source': 's2-fos-model'}],\n",
       " 'authors': [{'authorId': '7635770', 'name': 'Lucija Slemc'},\n",
       "  {'authorId': '49271298', 'name': 'J. Jakše'},\n",
       "  {'authorId': '2773799', 'name': 'A. Filisetti'},\n",
       "  {'authorId': '5179706', 'name': 'D. Baranasic'},\n",
       "  {'authorId': '1400905906', 'name': 'A. Rodríguez-García'},\n",
       "  {'authorId': '51935399', 'name': 'Francesco Del Carratore'},\n",
       "  {'authorId': '2019815', 'name': 'S. Marino'},\n",
       "  {'authorId': '2455397', 'name': 'J. Zucko'},\n",
       "  {'authorId': '6359399', 'name': 'A. Starčević'},\n",
       "  {'authorId': '145359256', 'name': 'Martin Šala'},\n",
       "  {'authorId': '1400984925', 'name': 'M. Pérez-Bonilla'},\n",
       "  {'authorId': '1398109270', 'name': 'M. Sánchez-Hidalgo'},\n",
       "  {'authorId': '144257330', 'name': 'I. González'},\n",
       "  {'authorId': '145206405', 'name': 'F. Reyes'},\n",
       "  {'authorId': '5448225', 'name': 'O. Genilloud'},\n",
       "  {'authorId': '8684773', 'name': 'V. Springthorpe'},\n",
       "  {'authorId': '6755202', 'name': 'D. Goranovič'},\n",
       "  {'authorId': '2084318595', 'name': 'G. Kosec'},\n",
       "  {'authorId': '35223271', 'name': 'G. Thomas'},\n",
       "  {'authorId': '7444042', 'name': 'D. Lucrezia'},\n",
       "  {'authorId': '5325801', 'name': 'H. Petković'},\n",
       "  {'authorId': '2056905654', 'name': 'M. Tome'}]}"
      ]
     },
     "execution_count": 422,
     "metadata": {},
     "output_type": "execute_result"
    }
   ],
   "source": [
    "r = requests.post(my_url, json=params)\n",
    "r.json()[0]['papers'][0]\n"
   ]
  },
  {
   "cell_type": "code",
   "execution_count": 613,
   "id": "91baa728",
   "metadata": {},
   "outputs": [],
   "source": [
    "author_data = {\n",
    "    \"ids\": [],\n",
    "    \"names\": [],\n",
    "    \"aliases\": [],\n",
    "    \"citationCount\": [],\n",
    "    \"field\": []\n",
    "    }\n",
    "\n",
    "paper_data = {\n",
    "    \"paperId\": [],\n",
    "    \"title\": [],\n",
    "    \"year\": [],\n",
    "    \"DOI\": [],\n",
    "    \"citationCount\": [],\n",
    "    \"fields\": [],\n",
    "    \"authorIds\": []\n",
    "}\n",
    "\n",
    "abstract_data = {\n",
    "    \"paperId\": [],\n",
    "    \"abstract\": []\n",
    "}"
   ]
  },
  {
   "cell_type": "code",
   "execution_count": 614,
   "id": "062b1fb7",
   "metadata": {},
   "outputs": [],
   "source": [
    "from collections import Counter\n",
    "\n",
    "BASE_URL = \"https://api.semanticscholar.org/graph/\"\n",
    "VERSION = \"v1/\"\n",
    "RESOURCE = \"author/batch\"\n",
    "FIELDS = \"?fields=name,aliases,citationCount,papers.title,papers.abstract,papers.year,papers.externalIds,papers.s2FieldsOfStudy,papers.citationCount,papers.authors\"\n",
    "\n",
    "params = {\"ids\": ['2773799','1399712184']}\n",
    "\n",
    "my_url = BASE_URL + VERSION + RESOURCE + FIELDS\n",
    "\n",
    "\n",
    "def most_frequent(List):\n",
    "    occurence_count = Counter(List)\n",
    "    return occurence_count.most_common(1)[0][0]\n",
    "\n",
    "def get_data(idx, url):\n",
    "    ids = list(all_authors[\"authorId\"][idx:idx+30])\n",
    "    r = requests.post(url, json={\"ids\": ids})\n",
    "\n",
    "    if r.status_code == 500 or r.status_code == 504:\n",
    "        print(f'Failed on {idx} with status code {r.status_code}')\n",
    "        return None\n",
    "        \n",
    "    if r.status_code != 200:\n",
    "        time.sleep(30)\n",
    "        print(f\"Got status code: {r.status_code}. Trying Again!\")\n",
    "        get_data(idx, url)\n",
    "\n",
    "    return r.json()\n",
    "\n",
    "def make_data(r):\n",
    "    if r is None:\n",
    "        return None\n",
    "    for author in r:\n",
    "        author_data['ids'].append(author['authorId'])\n",
    "        author_data['names'].append(author['name'])\n",
    "        author_data['aliases'].append(str(author['aliases']))\n",
    "        author_data['citationCount'].append(int(author['citationCount']))\n",
    "        temp_fields = []\n",
    "        for paper in author['papers']:\n",
    "            if 'DOI' in paper['externalIds'].keys():\n",
    "                paper_data[\"paperId\"].append(paper['paperId'])\n",
    "                paper_data[\"title\"].append(paper['title'])\n",
    "                paper_data[\"year\"].append(int(paper['year'])) if paper['year'] is not None else paper_data[\"year\"].append(0)\n",
    "                paper_data[\"citationCount\"].append(int(paper['citationCount']))\n",
    "                paper_data[\"fields\"].append(str([field['category'] for field in paper['s2FieldsOfStudy']]))\n",
    "                temp_fields.extend([field['category'] for field in paper['s2FieldsOfStudy']])\n",
    "                aut = paper['authors']\n",
    "                paper_data[\"authorIds\"].append([author['authorId'] for author in aut])\n",
    "                paper_data[\"DOI\"].append(paper['externalIds']['DOI'])\n",
    "                abstract_data['paperId'].append(paper['paperId'])\n",
    "                abstract_data[\"abstract\"].append(paper['abstract'])\n",
    "        author_data['field'].append(most_frequent(temp_fields)) if len(temp_fields) > 0 else author_data['field'].append(\"None\")\n",
    "        "
   ]
  },
  {
   "cell_type": "code",
   "execution_count": 615,
   "id": "adf333ca",
   "metadata": {},
   "outputs": [
    {
     "name": "stderr",
     "output_type": "stream",
     "text": [
      "  0%|          | 2/3523 [00:08<4:24:23,  4.51s/it]"
     ]
    },
    {
     "name": "stdout",
     "output_type": "stream",
     "text": [
      "Failed on 30 with status code 500\n"
     ]
    },
    {
     "name": "stderr",
     "output_type": "stream",
     "text": [
      "  1%|          | 22/3523 [01:40<5:38:33,  5.80s/it]"
     ]
    },
    {
     "name": "stdout",
     "output_type": "stream",
     "text": [
      "Failed on 630 with status code 500\n"
     ]
    },
    {
     "name": "stderr",
     "output_type": "stream",
     "text": [
      "  1%|          | 30/3523 [02:31<5:04:49,  5.24s/it]"
     ]
    },
    {
     "name": "stdout",
     "output_type": "stream",
     "text": [
      "Failed on 870 with status code 500\n"
     ]
    },
    {
     "name": "stderr",
     "output_type": "stream",
     "text": [
      "  1%|          | 35/3523 [03:16<11:17:44, 11.66s/it]"
     ]
    },
    {
     "name": "stdout",
     "output_type": "stream",
     "text": [
      "Failed on 1020 with status code 504\n"
     ]
    },
    {
     "name": "stderr",
     "output_type": "stream",
     "text": [
      "  1%|          | 38/3523 [03:32<7:32:03,  7.78s/it] "
     ]
    },
    {
     "name": "stdout",
     "output_type": "stream",
     "text": [
      "Failed on 1110 with status code 500\n"
     ]
    },
    {
     "name": "stderr",
     "output_type": "stream",
     "text": [
      "  1%|          | 39/3523 [03:41<7:41:18,  7.94s/it]"
     ]
    },
    {
     "name": "stdout",
     "output_type": "stream",
     "text": [
      "Failed on 1140 with status code 500\n"
     ]
    },
    {
     "name": "stderr",
     "output_type": "stream",
     "text": [
      "  1%|▏         | 45/3523 [04:13<7:03:29,  7.31s/it]"
     ]
    },
    {
     "name": "stdout",
     "output_type": "stream",
     "text": [
      "Failed on 1320 with status code 500\n"
     ]
    },
    {
     "name": "stderr",
     "output_type": "stream",
     "text": [
      "  1%|▏         | 51/3523 [04:44<6:37:24,  6.87s/it]"
     ]
    },
    {
     "name": "stdout",
     "output_type": "stream",
     "text": [
      "Failed on 1500 with status code 500\n"
     ]
    },
    {
     "name": "stderr",
     "output_type": "stream",
     "text": [
      "  2%|▏         | 53/3523 [04:53<5:36:49,  5.82s/it]"
     ]
    },
    {
     "name": "stdout",
     "output_type": "stream",
     "text": [
      "Failed on 1560 with status code 500\n"
     ]
    },
    {
     "name": "stderr",
     "output_type": "stream",
     "text": [
      "  2%|▏         | 56/3523 [05:22<9:20:12,  9.70s/it]"
     ]
    },
    {
     "name": "stdout",
     "output_type": "stream",
     "text": [
      "Failed on 1650 with status code 500\n"
     ]
    },
    {
     "name": "stderr",
     "output_type": "stream",
     "text": [
      "  2%|▏         | 58/3523 [05:34<7:40:30,  7.97s/it]"
     ]
    },
    {
     "name": "stdout",
     "output_type": "stream",
     "text": [
      "Failed on 1710 with status code 500\n"
     ]
    },
    {
     "name": "stderr",
     "output_type": "stream",
     "text": [
      "  2%|▏         | 64/3523 [06:19<11:13:42, 11.69s/it]"
     ]
    },
    {
     "name": "stdout",
     "output_type": "stream",
     "text": [
      "Failed on 1890 with status code 504\n"
     ]
    },
    {
     "name": "stderr",
     "output_type": "stream",
     "text": [
      "  2%|▏         | 66/3523 [06:27<7:35:14,  7.90s/it] "
     ]
    },
    {
     "name": "stdout",
     "output_type": "stream",
     "text": [
      "Failed on 1950 with status code 500\n"
     ]
    },
    {
     "name": "stderr",
     "output_type": "stream",
     "text": [
      "  2%|▏         | 71/3523 [06:54<6:28:30,  6.75s/it]"
     ]
    },
    {
     "name": "stdout",
     "output_type": "stream",
     "text": [
      "Failed on 2100 with status code 500\n"
     ]
    },
    {
     "name": "stderr",
     "output_type": "stream",
     "text": [
      "  2%|▏         | 78/3523 [07:28<5:00:36,  5.24s/it]"
     ]
    },
    {
     "name": "stdout",
     "output_type": "stream",
     "text": [
      "Failed on 2310 with status code 500\n"
     ]
    },
    {
     "name": "stderr",
     "output_type": "stream",
     "text": [
      "  2%|▏         | 81/3523 [07:40<4:24:08,  4.60s/it]"
     ]
    },
    {
     "name": "stdout",
     "output_type": "stream",
     "text": [
      "Failed on 2400 with status code 500\n"
     ]
    },
    {
     "name": "stderr",
     "output_type": "stream",
     "text": [
      "  2%|▏         | 87/3523 [08:08<5:23:27,  5.65s/it]"
     ]
    },
    {
     "name": "stdout",
     "output_type": "stream",
     "text": [
      "Failed on 2580 with status code 500\n"
     ]
    },
    {
     "name": "stderr",
     "output_type": "stream",
     "text": [
      "  3%|▎         | 89/3523 [08:17<4:50:45,  5.08s/it]"
     ]
    },
    {
     "name": "stdout",
     "output_type": "stream",
     "text": [
      "Failed on 2640 with status code 500\n"
     ]
    },
    {
     "name": "stderr",
     "output_type": "stream",
     "text": [
      "  3%|▎         | 92/3523 [08:46<8:32:18,  8.96s/it]"
     ]
    },
    {
     "name": "stdout",
     "output_type": "stream",
     "text": [
      "Failed on 2730 with status code 500\n"
     ]
    },
    {
     "name": "stderr",
     "output_type": "stream",
     "text": [
      "  3%|▎         | 94/3523 [08:57<7:10:31,  7.53s/it]"
     ]
    },
    {
     "name": "stdout",
     "output_type": "stream",
     "text": [
      "Failed on 2790 with status code 500\n"
     ]
    },
    {
     "name": "stderr",
     "output_type": "stream",
     "text": [
      "  3%|▎         | 106/3523 [09:53<5:55:05,  6.24s/it]"
     ]
    },
    {
     "name": "stdout",
     "output_type": "stream",
     "text": [
      "Failed on 3150 with status code 500\n"
     ]
    },
    {
     "name": "stderr",
     "output_type": "stream",
     "text": [
      "  3%|▎         | 109/3523 [10:09<5:39:29,  5.97s/it]"
     ]
    },
    {
     "name": "stdout",
     "output_type": "stream",
     "text": [
      "Failed on 3240 with status code 500\n"
     ]
    },
    {
     "name": "stderr",
     "output_type": "stream",
     "text": [
      "  4%|▎         | 126/3523 [11:42<8:24:50,  8.92s/it]"
     ]
    },
    {
     "name": "stdout",
     "output_type": "stream",
     "text": [
      "Failed on 3750 with status code 500\n"
     ]
    },
    {
     "name": "stderr",
     "output_type": "stream",
     "text": [
      "  4%|▎         | 129/3523 [11:54<5:31:42,  5.86s/it]"
     ]
    },
    {
     "name": "stdout",
     "output_type": "stream",
     "text": [
      "Failed on 3840 with status code 500\n"
     ]
    },
    {
     "name": "stderr",
     "output_type": "stream",
     "text": [
      "  4%|▍         | 138/3523 [12:44<6:11:26,  6.58s/it]"
     ]
    },
    {
     "name": "stdout",
     "output_type": "stream",
     "text": [
      "Failed on 4110 with status code 500\n"
     ]
    },
    {
     "name": "stderr",
     "output_type": "stream",
     "text": [
      "  4%|▍         | 142/3523 [13:06<5:53:03,  6.27s/it]"
     ]
    },
    {
     "name": "stdout",
     "output_type": "stream",
     "text": [
      "Failed on 4230 with status code 500\n"
     ]
    },
    {
     "name": "stderr",
     "output_type": "stream",
     "text": [
      "  4%|▍         | 148/3523 [13:44<6:55:21,  7.38s/it]"
     ]
    },
    {
     "name": "stdout",
     "output_type": "stream",
     "text": [
      "Failed on 4410 with status code 500\n"
     ]
    },
    {
     "name": "stderr",
     "output_type": "stream",
     "text": [
      "  4%|▍         | 149/3523 [13:54<7:31:59,  8.04s/it]"
     ]
    },
    {
     "name": "stdout",
     "output_type": "stream",
     "text": [
      "Failed on 4440 with status code 500\n"
     ]
    },
    {
     "name": "stderr",
     "output_type": "stream",
     "text": [
      "  4%|▍         | 151/3523 [14:07<7:01:06,  7.49s/it]"
     ]
    },
    {
     "name": "stdout",
     "output_type": "stream",
     "text": [
      "Failed on 4500 with status code 500\n"
     ]
    },
    {
     "name": "stderr",
     "output_type": "stream",
     "text": [
      "  4%|▍         | 157/3523 [14:34<4:39:28,  4.98s/it]"
     ]
    },
    {
     "name": "stdout",
     "output_type": "stream",
     "text": [
      "Failed on 4680 with status code 500\n"
     ]
    },
    {
     "name": "stderr",
     "output_type": "stream",
     "text": [
      "  5%|▍         | 163/3523 [15:06<5:26:50,  5.84s/it]"
     ]
    },
    {
     "name": "stdout",
     "output_type": "stream",
     "text": [
      "Failed on 4860 with status code 500\n"
     ]
    },
    {
     "name": "stderr",
     "output_type": "stream",
     "text": [
      "  5%|▍         | 171/3523 [15:47<5:42:13,  6.13s/it]"
     ]
    },
    {
     "name": "stdout",
     "output_type": "stream",
     "text": [
      "Failed on 5100 with status code 500\n"
     ]
    },
    {
     "name": "stderr",
     "output_type": "stream",
     "text": [
      "  5%|▍         | 173/3523 [16:03<6:45:52,  7.27s/it]"
     ]
    },
    {
     "name": "stdout",
     "output_type": "stream",
     "text": [
      "Failed on 5160 with status code 500\n"
     ]
    },
    {
     "name": "stderr",
     "output_type": "stream",
     "text": [
      "  5%|▍         | 175/3523 [16:14<5:59:59,  6.45s/it]"
     ]
    },
    {
     "name": "stdout",
     "output_type": "stream",
     "text": [
      "Failed on 5220 with status code 500\n"
     ]
    },
    {
     "name": "stderr",
     "output_type": "stream",
     "text": [
      "  5%|▌         | 179/3523 [16:59<11:45:31, 12.66s/it]"
     ]
    },
    {
     "name": "stdout",
     "output_type": "stream",
     "text": [
      "Failed on 5340 with status code 504\n"
     ]
    },
    {
     "name": "stderr",
     "output_type": "stream",
     "text": [
      "  5%|▌         | 184/3523 [17:33<7:20:05,  7.91s/it] "
     ]
    },
    {
     "name": "stdout",
     "output_type": "stream",
     "text": [
      "Failed on 5490 with status code 500\n"
     ]
    },
    {
     "name": "stderr",
     "output_type": "stream",
     "text": [
      "  5%|▌         | 186/3523 [17:46<6:47:02,  7.32s/it]"
     ]
    },
    {
     "name": "stdout",
     "output_type": "stream",
     "text": [
      "Failed on 5550 with status code 500\n"
     ]
    },
    {
     "name": "stderr",
     "output_type": "stream",
     "text": [
      "  6%|▌         | 199/3523 [18:48<4:59:36,  5.41s/it]"
     ]
    },
    {
     "name": "stdout",
     "output_type": "stream",
     "text": [
      "Failed on 5940 with status code 500\n"
     ]
    },
    {
     "name": "stderr",
     "output_type": "stream",
     "text": [
      "  6%|▌         | 215/3523 [20:07<7:44:38,  8.43s/it]"
     ]
    },
    {
     "name": "stdout",
     "output_type": "stream",
     "text": [
      "Failed on 6420 with status code 500\n"
     ]
    },
    {
     "name": "stderr",
     "output_type": "stream",
     "text": [
      "  6%|▌         | 215/3523 [2:48:51<43:18:09, 47.13s/it]\n"
     ]
    },
    {
     "ename": "KeyboardInterrupt",
     "evalue": "",
     "output_type": "error",
     "traceback": [
      "\u001b[0;31m---------------------------------------------------------------------------\u001b[0m",
      "\u001b[0;31mKeyboardInterrupt\u001b[0m                         Traceback (most recent call last)",
      "Cell \u001b[0;32mIn[615], line 2\u001b[0m\n\u001b[1;32m      1\u001b[0m \u001b[39mfor\u001b[39;00m idx \u001b[39min\u001b[39;00m tqdm(\u001b[39mrange\u001b[39m(\u001b[39m0\u001b[39m, \u001b[39mlen\u001b[39m(all_authors), \u001b[39m30\u001b[39m)):\n\u001b[0;32m----> 2\u001b[0m     make_data(get_data(idx, my_url))\n",
      "Cell \u001b[0;32mIn[614], line 19\u001b[0m, in \u001b[0;36mget_data\u001b[0;34m(idx, url)\u001b[0m\n\u001b[1;32m     17\u001b[0m \u001b[39mdef\u001b[39;00m \u001b[39mget_data\u001b[39m(idx, url):\n\u001b[1;32m     18\u001b[0m     ids \u001b[39m=\u001b[39m \u001b[39mlist\u001b[39m(all_authors[\u001b[39m\"\u001b[39m\u001b[39mauthorId\u001b[39m\u001b[39m\"\u001b[39m][idx:idx\u001b[39m+\u001b[39m\u001b[39m30\u001b[39m])\n\u001b[0;32m---> 19\u001b[0m     r \u001b[39m=\u001b[39m requests\u001b[39m.\u001b[39;49mpost(url, json\u001b[39m=\u001b[39;49m{\u001b[39m\"\u001b[39;49m\u001b[39mids\u001b[39;49m\u001b[39m\"\u001b[39;49m: ids})\n\u001b[1;32m     21\u001b[0m     \u001b[39mif\u001b[39;00m r\u001b[39m.\u001b[39mstatus_code \u001b[39m==\u001b[39m \u001b[39m500\u001b[39m \u001b[39mor\u001b[39;00m r\u001b[39m.\u001b[39mstatus_code \u001b[39m==\u001b[39m \u001b[39m504\u001b[39m:\n\u001b[1;32m     22\u001b[0m         \u001b[39mprint\u001b[39m(\u001b[39mf\u001b[39m\u001b[39m'\u001b[39m\u001b[39mFailed on \u001b[39m\u001b[39m{\u001b[39;00midx\u001b[39m}\u001b[39;00m\u001b[39m with status code \u001b[39m\u001b[39m{\u001b[39;00mr\u001b[39m.\u001b[39mstatus_code\u001b[39m}\u001b[39;00m\u001b[39m'\u001b[39m)\n",
      "File \u001b[0;32m~/opt/anaconda3/envs/compsci/lib/python3.9/site-packages/requests/api.py:115\u001b[0m, in \u001b[0;36mpost\u001b[0;34m(url, data, json, **kwargs)\u001b[0m\n\u001b[1;32m    103\u001b[0m \u001b[39mdef\u001b[39;00m \u001b[39mpost\u001b[39m(url, data\u001b[39m=\u001b[39m\u001b[39mNone\u001b[39;00m, json\u001b[39m=\u001b[39m\u001b[39mNone\u001b[39;00m, \u001b[39m*\u001b[39m\u001b[39m*\u001b[39mkwargs):\n\u001b[1;32m    104\u001b[0m     \u001b[39mr\u001b[39m\u001b[39m\"\"\"Sends a POST request.\u001b[39;00m\n\u001b[1;32m    105\u001b[0m \n\u001b[1;32m    106\u001b[0m \u001b[39m    :param url: URL for the new :class:`Request` object.\u001b[39;00m\n\u001b[0;32m   (...)\u001b[0m\n\u001b[1;32m    112\u001b[0m \u001b[39m    :rtype: requests.Response\u001b[39;00m\n\u001b[1;32m    113\u001b[0m \u001b[39m    \"\"\"\u001b[39;00m\n\u001b[0;32m--> 115\u001b[0m     \u001b[39mreturn\u001b[39;00m request(\u001b[39m\"\u001b[39;49m\u001b[39mpost\u001b[39;49m\u001b[39m\"\u001b[39;49m, url, data\u001b[39m=\u001b[39;49mdata, json\u001b[39m=\u001b[39;49mjson, \u001b[39m*\u001b[39;49m\u001b[39m*\u001b[39;49mkwargs)\n",
      "File \u001b[0;32m~/opt/anaconda3/envs/compsci/lib/python3.9/site-packages/requests/api.py:59\u001b[0m, in \u001b[0;36mrequest\u001b[0;34m(method, url, **kwargs)\u001b[0m\n\u001b[1;32m     55\u001b[0m \u001b[39m# By using the 'with' statement we are sure the session is closed, thus we\u001b[39;00m\n\u001b[1;32m     56\u001b[0m \u001b[39m# avoid leaving sockets open which can trigger a ResourceWarning in some\u001b[39;00m\n\u001b[1;32m     57\u001b[0m \u001b[39m# cases, and look like a memory leak in others.\u001b[39;00m\n\u001b[1;32m     58\u001b[0m \u001b[39mwith\u001b[39;00m sessions\u001b[39m.\u001b[39mSession() \u001b[39mas\u001b[39;00m session:\n\u001b[0;32m---> 59\u001b[0m     \u001b[39mreturn\u001b[39;00m session\u001b[39m.\u001b[39;49mrequest(method\u001b[39m=\u001b[39;49mmethod, url\u001b[39m=\u001b[39;49murl, \u001b[39m*\u001b[39;49m\u001b[39m*\u001b[39;49mkwargs)\n",
      "File \u001b[0;32m~/opt/anaconda3/envs/compsci/lib/python3.9/site-packages/requests/sessions.py:587\u001b[0m, in \u001b[0;36mSession.request\u001b[0;34m(self, method, url, params, data, headers, cookies, files, auth, timeout, allow_redirects, proxies, hooks, stream, verify, cert, json)\u001b[0m\n\u001b[1;32m    582\u001b[0m send_kwargs \u001b[39m=\u001b[39m {\n\u001b[1;32m    583\u001b[0m     \u001b[39m\"\u001b[39m\u001b[39mtimeout\u001b[39m\u001b[39m\"\u001b[39m: timeout,\n\u001b[1;32m    584\u001b[0m     \u001b[39m\"\u001b[39m\u001b[39mallow_redirects\u001b[39m\u001b[39m\"\u001b[39m: allow_redirects,\n\u001b[1;32m    585\u001b[0m }\n\u001b[1;32m    586\u001b[0m send_kwargs\u001b[39m.\u001b[39mupdate(settings)\n\u001b[0;32m--> 587\u001b[0m resp \u001b[39m=\u001b[39m \u001b[39mself\u001b[39;49m\u001b[39m.\u001b[39;49msend(prep, \u001b[39m*\u001b[39;49m\u001b[39m*\u001b[39;49msend_kwargs)\n\u001b[1;32m    589\u001b[0m \u001b[39mreturn\u001b[39;00m resp\n",
      "File \u001b[0;32m~/opt/anaconda3/envs/compsci/lib/python3.9/site-packages/requests/sessions.py:745\u001b[0m, in \u001b[0;36mSession.send\u001b[0;34m(self, request, **kwargs)\u001b[0m\n\u001b[1;32m    742\u001b[0m         \u001b[39mpass\u001b[39;00m\n\u001b[1;32m    744\u001b[0m \u001b[39mif\u001b[39;00m \u001b[39mnot\u001b[39;00m stream:\n\u001b[0;32m--> 745\u001b[0m     r\u001b[39m.\u001b[39;49mcontent\n\u001b[1;32m    747\u001b[0m \u001b[39mreturn\u001b[39;00m r\n",
      "File \u001b[0;32m~/opt/anaconda3/envs/compsci/lib/python3.9/site-packages/requests/models.py:899\u001b[0m, in \u001b[0;36mResponse.content\u001b[0;34m(self)\u001b[0m\n\u001b[1;32m    897\u001b[0m         \u001b[39mself\u001b[39m\u001b[39m.\u001b[39m_content \u001b[39m=\u001b[39m \u001b[39mNone\u001b[39;00m\n\u001b[1;32m    898\u001b[0m     \u001b[39melse\u001b[39;00m:\n\u001b[0;32m--> 899\u001b[0m         \u001b[39mself\u001b[39m\u001b[39m.\u001b[39m_content \u001b[39m=\u001b[39m \u001b[39mb\u001b[39;49m\u001b[39m\"\u001b[39;49m\u001b[39m\"\u001b[39;49m\u001b[39m.\u001b[39;49mjoin(\u001b[39mself\u001b[39;49m\u001b[39m.\u001b[39;49miter_content(CONTENT_CHUNK_SIZE)) \u001b[39mor\u001b[39;00m \u001b[39mb\u001b[39m\u001b[39m\"\u001b[39m\u001b[39m\"\u001b[39m\n\u001b[1;32m    901\u001b[0m \u001b[39mself\u001b[39m\u001b[39m.\u001b[39m_content_consumed \u001b[39m=\u001b[39m \u001b[39mTrue\u001b[39;00m\n\u001b[1;32m    902\u001b[0m \u001b[39m# don't need to release the connection; that's been handled by urllib3\u001b[39;00m\n\u001b[1;32m    903\u001b[0m \u001b[39m# since we exhausted the data.\u001b[39;00m\n",
      "File \u001b[0;32m~/opt/anaconda3/envs/compsci/lib/python3.9/site-packages/requests/models.py:816\u001b[0m, in \u001b[0;36mResponse.iter_content.<locals>.generate\u001b[0;34m()\u001b[0m\n\u001b[1;32m    814\u001b[0m \u001b[39mif\u001b[39;00m \u001b[39mhasattr\u001b[39m(\u001b[39mself\u001b[39m\u001b[39m.\u001b[39mraw, \u001b[39m\"\u001b[39m\u001b[39mstream\u001b[39m\u001b[39m\"\u001b[39m):\n\u001b[1;32m    815\u001b[0m     \u001b[39mtry\u001b[39;00m:\n\u001b[0;32m--> 816\u001b[0m         \u001b[39myield from\u001b[39;00m \u001b[39mself\u001b[39m\u001b[39m.\u001b[39mraw\u001b[39m.\u001b[39mstream(chunk_size, decode_content\u001b[39m=\u001b[39m\u001b[39mTrue\u001b[39;00m)\n\u001b[1;32m    817\u001b[0m     \u001b[39mexcept\u001b[39;00m ProtocolError \u001b[39mas\u001b[39;00m e:\n\u001b[1;32m    818\u001b[0m         \u001b[39mraise\u001b[39;00m ChunkedEncodingError(e)\n",
      "File \u001b[0;32m~/opt/anaconda3/envs/compsci/lib/python3.9/site-packages/urllib3/response.py:628\u001b[0m, in \u001b[0;36mHTTPResponse.stream\u001b[0;34m(self, amt, decode_content)\u001b[0m\n\u001b[1;32m    626\u001b[0m \u001b[39melse\u001b[39;00m:\n\u001b[1;32m    627\u001b[0m     \u001b[39mwhile\u001b[39;00m \u001b[39mnot\u001b[39;00m is_fp_closed(\u001b[39mself\u001b[39m\u001b[39m.\u001b[39m_fp):\n\u001b[0;32m--> 628\u001b[0m         data \u001b[39m=\u001b[39m \u001b[39mself\u001b[39;49m\u001b[39m.\u001b[39;49mread(amt\u001b[39m=\u001b[39;49mamt, decode_content\u001b[39m=\u001b[39;49mdecode_content)\n\u001b[1;32m    630\u001b[0m         \u001b[39mif\u001b[39;00m data:\n\u001b[1;32m    631\u001b[0m             \u001b[39myield\u001b[39;00m data\n",
      "File \u001b[0;32m~/opt/anaconda3/envs/compsci/lib/python3.9/site-packages/urllib3/response.py:567\u001b[0m, in \u001b[0;36mHTTPResponse.read\u001b[0;34m(self, amt, decode_content, cache_content)\u001b[0m\n\u001b[1;32m    564\u001b[0m fp_closed \u001b[39m=\u001b[39m \u001b[39mgetattr\u001b[39m(\u001b[39mself\u001b[39m\u001b[39m.\u001b[39m_fp, \u001b[39m\"\u001b[39m\u001b[39mclosed\u001b[39m\u001b[39m\"\u001b[39m, \u001b[39mFalse\u001b[39;00m)\n\u001b[1;32m    566\u001b[0m \u001b[39mwith\u001b[39;00m \u001b[39mself\u001b[39m\u001b[39m.\u001b[39m_error_catcher():\n\u001b[0;32m--> 567\u001b[0m     data \u001b[39m=\u001b[39m \u001b[39mself\u001b[39;49m\u001b[39m.\u001b[39;49m_fp_read(amt) \u001b[39mif\u001b[39;00m \u001b[39mnot\u001b[39;00m fp_closed \u001b[39melse\u001b[39;00m \u001b[39mb\u001b[39m\u001b[39m\"\u001b[39m\u001b[39m\"\u001b[39m\n\u001b[1;32m    568\u001b[0m     \u001b[39mif\u001b[39;00m amt \u001b[39mis\u001b[39;00m \u001b[39mNone\u001b[39;00m:\n\u001b[1;32m    569\u001b[0m         flush_decoder \u001b[39m=\u001b[39m \u001b[39mTrue\u001b[39;00m\n",
      "File \u001b[0;32m~/opt/anaconda3/envs/compsci/lib/python3.9/site-packages/urllib3/response.py:533\u001b[0m, in \u001b[0;36mHTTPResponse._fp_read\u001b[0;34m(self, amt)\u001b[0m\n\u001b[1;32m    530\u001b[0m     \u001b[39mreturn\u001b[39;00m buffer\u001b[39m.\u001b[39mgetvalue()\n\u001b[1;32m    531\u001b[0m \u001b[39melse\u001b[39;00m:\n\u001b[1;32m    532\u001b[0m     \u001b[39m# StringIO doesn't like amt=None\u001b[39;00m\n\u001b[0;32m--> 533\u001b[0m     \u001b[39mreturn\u001b[39;00m \u001b[39mself\u001b[39;49m\u001b[39m.\u001b[39;49m_fp\u001b[39m.\u001b[39;49mread(amt) \u001b[39mif\u001b[39;00m amt \u001b[39mis\u001b[39;00m \u001b[39mnot\u001b[39;00m \u001b[39mNone\u001b[39;00m \u001b[39melse\u001b[39;00m \u001b[39mself\u001b[39m\u001b[39m.\u001b[39m_fp\u001b[39m.\u001b[39mread()\n",
      "File \u001b[0;32m~/opt/anaconda3/envs/compsci/lib/python3.9/http/client.py:463\u001b[0m, in \u001b[0;36mHTTPResponse.read\u001b[0;34m(self, amt)\u001b[0m\n\u001b[1;32m    460\u001b[0m \u001b[39mif\u001b[39;00m amt \u001b[39mis\u001b[39;00m \u001b[39mnot\u001b[39;00m \u001b[39mNone\u001b[39;00m:\n\u001b[1;32m    461\u001b[0m     \u001b[39m# Amount is given, implement using readinto\u001b[39;00m\n\u001b[1;32m    462\u001b[0m     b \u001b[39m=\u001b[39m \u001b[39mbytearray\u001b[39m(amt)\n\u001b[0;32m--> 463\u001b[0m     n \u001b[39m=\u001b[39m \u001b[39mself\u001b[39;49m\u001b[39m.\u001b[39;49mreadinto(b)\n\u001b[1;32m    464\u001b[0m     \u001b[39mreturn\u001b[39;00m \u001b[39mmemoryview\u001b[39m(b)[:n]\u001b[39m.\u001b[39mtobytes()\n\u001b[1;32m    465\u001b[0m \u001b[39melse\u001b[39;00m:\n\u001b[1;32m    466\u001b[0m     \u001b[39m# Amount is not given (unbounded read) so we must check self.length\u001b[39;00m\n\u001b[1;32m    467\u001b[0m     \u001b[39m# and self.chunked\u001b[39;00m\n",
      "File \u001b[0;32m~/opt/anaconda3/envs/compsci/lib/python3.9/http/client.py:507\u001b[0m, in \u001b[0;36mHTTPResponse.readinto\u001b[0;34m(self, b)\u001b[0m\n\u001b[1;32m    502\u001b[0m         b \u001b[39m=\u001b[39m \u001b[39mmemoryview\u001b[39m(b)[\u001b[39m0\u001b[39m:\u001b[39mself\u001b[39m\u001b[39m.\u001b[39mlength]\n\u001b[1;32m    504\u001b[0m \u001b[39m# we do not use _safe_read() here because this may be a .will_close\u001b[39;00m\n\u001b[1;32m    505\u001b[0m \u001b[39m# connection, and the user is reading more bytes than will be provided\u001b[39;00m\n\u001b[1;32m    506\u001b[0m \u001b[39m# (for example, reading in 1k chunks)\u001b[39;00m\n\u001b[0;32m--> 507\u001b[0m n \u001b[39m=\u001b[39m \u001b[39mself\u001b[39;49m\u001b[39m.\u001b[39;49mfp\u001b[39m.\u001b[39;49mreadinto(b)\n\u001b[1;32m    508\u001b[0m \u001b[39mif\u001b[39;00m \u001b[39mnot\u001b[39;00m n \u001b[39mand\u001b[39;00m b:\n\u001b[1;32m    509\u001b[0m     \u001b[39m# Ideally, we would raise IncompleteRead if the content-length\u001b[39;00m\n\u001b[1;32m    510\u001b[0m     \u001b[39m# wasn't satisfied, but it might break compatibility.\u001b[39;00m\n\u001b[1;32m    511\u001b[0m     \u001b[39mself\u001b[39m\u001b[39m.\u001b[39m_close_conn()\n",
      "File \u001b[0;32m~/opt/anaconda3/envs/compsci/lib/python3.9/socket.py:704\u001b[0m, in \u001b[0;36mSocketIO.readinto\u001b[0;34m(self, b)\u001b[0m\n\u001b[1;32m    702\u001b[0m \u001b[39mwhile\u001b[39;00m \u001b[39mTrue\u001b[39;00m:\n\u001b[1;32m    703\u001b[0m     \u001b[39mtry\u001b[39;00m:\n\u001b[0;32m--> 704\u001b[0m         \u001b[39mreturn\u001b[39;00m \u001b[39mself\u001b[39;49m\u001b[39m.\u001b[39;49m_sock\u001b[39m.\u001b[39;49mrecv_into(b)\n\u001b[1;32m    705\u001b[0m     \u001b[39mexcept\u001b[39;00m timeout:\n\u001b[1;32m    706\u001b[0m         \u001b[39mself\u001b[39m\u001b[39m.\u001b[39m_timeout_occurred \u001b[39m=\u001b[39m \u001b[39mTrue\u001b[39;00m\n",
      "File \u001b[0;32m~/opt/anaconda3/envs/compsci/lib/python3.9/ssl.py:1242\u001b[0m, in \u001b[0;36mSSLSocket.recv_into\u001b[0;34m(self, buffer, nbytes, flags)\u001b[0m\n\u001b[1;32m   1238\u001b[0m     \u001b[39mif\u001b[39;00m flags \u001b[39m!=\u001b[39m \u001b[39m0\u001b[39m:\n\u001b[1;32m   1239\u001b[0m         \u001b[39mraise\u001b[39;00m \u001b[39mValueError\u001b[39;00m(\n\u001b[1;32m   1240\u001b[0m           \u001b[39m\"\u001b[39m\u001b[39mnon-zero flags not allowed in calls to recv_into() on \u001b[39m\u001b[39m%s\u001b[39;00m\u001b[39m\"\u001b[39m \u001b[39m%\u001b[39m\n\u001b[1;32m   1241\u001b[0m           \u001b[39mself\u001b[39m\u001b[39m.\u001b[39m\u001b[39m__class__\u001b[39m)\n\u001b[0;32m-> 1242\u001b[0m     \u001b[39mreturn\u001b[39;00m \u001b[39mself\u001b[39;49m\u001b[39m.\u001b[39;49mread(nbytes, buffer)\n\u001b[1;32m   1243\u001b[0m \u001b[39melse\u001b[39;00m:\n\u001b[1;32m   1244\u001b[0m     \u001b[39mreturn\u001b[39;00m \u001b[39msuper\u001b[39m()\u001b[39m.\u001b[39mrecv_into(buffer, nbytes, flags)\n",
      "File \u001b[0;32m~/opt/anaconda3/envs/compsci/lib/python3.9/ssl.py:1100\u001b[0m, in \u001b[0;36mSSLSocket.read\u001b[0;34m(self, len, buffer)\u001b[0m\n\u001b[1;32m   1098\u001b[0m \u001b[39mtry\u001b[39;00m:\n\u001b[1;32m   1099\u001b[0m     \u001b[39mif\u001b[39;00m buffer \u001b[39mis\u001b[39;00m \u001b[39mnot\u001b[39;00m \u001b[39mNone\u001b[39;00m:\n\u001b[0;32m-> 1100\u001b[0m         \u001b[39mreturn\u001b[39;00m \u001b[39mself\u001b[39;49m\u001b[39m.\u001b[39;49m_sslobj\u001b[39m.\u001b[39;49mread(\u001b[39mlen\u001b[39;49m, buffer)\n\u001b[1;32m   1101\u001b[0m     \u001b[39melse\u001b[39;00m:\n\u001b[1;32m   1102\u001b[0m         \u001b[39mreturn\u001b[39;00m \u001b[39mself\u001b[39m\u001b[39m.\u001b[39m_sslobj\u001b[39m.\u001b[39mread(\u001b[39mlen\u001b[39m)\n",
      "\u001b[0;31mKeyboardInterrupt\u001b[0m: "
     ]
    }
   ],
   "source": [
    "for idx in tqdm(range(0, len(all_authors), 30)):\n",
    "    make_data(get_data(idx, my_url))\n",
    "    "
   ]
  },
  {
   "cell_type": "code",
   "execution_count": 623,
   "id": "7bcb786e",
   "metadata": {},
   "outputs": [],
   "source": [
    "adf = pd.DataFrame(author_data,  columns=author_data.keys())\n",
    "adf.head()\n",
    "adf.to_csv('author_df.csv', index=False)\n",
    "\n"
   ]
  },
  {
   "cell_type": "code",
   "execution_count": 624,
   "id": "97920a3d",
   "metadata": {},
   "outputs": [],
   "source": [
    "pdf = pd.DataFrame(paper_data, columns=paper_data.keys())\n",
    "pdf.describe()\n",
    "pdf.to_csv('paper_df.csv', index=False)"
   ]
  },
  {
   "cell_type": "code",
   "execution_count": 621,
   "id": "cfa40b70",
   "metadata": {},
   "outputs": [
    {
     "data": {
      "text/html": [
       "<div>\n",
       "<style scoped>\n",
       "    .dataframe tbody tr th:only-of-type {\n",
       "        vertical-align: middle;\n",
       "    }\n",
       "\n",
       "    .dataframe tbody tr th {\n",
       "        vertical-align: top;\n",
       "    }\n",
       "\n",
       "    .dataframe thead th {\n",
       "        text-align: right;\n",
       "    }\n",
       "</style>\n",
       "<table border=\"1\" class=\"dataframe\">\n",
       "  <thead>\n",
       "    <tr style=\"text-align: right;\">\n",
       "      <th></th>\n",
       "      <th>paperId</th>\n",
       "      <th>title</th>\n",
       "      <th>year</th>\n",
       "      <th>DOI</th>\n",
       "      <th>citationCount</th>\n",
       "      <th>fields</th>\n",
       "      <th>authorIds</th>\n",
       "    </tr>\n",
       "  </thead>\n",
       "  <tbody>\n",
       "    <tr>\n",
       "      <th>517</th>\n",
       "      <td>18b329ac2e91458b0fed24103fb4d8b3a8b00548</td>\n",
       "      <td>quity and Fairness of Single- vs. Double-Blind...</td>\n",
       "      <td>0</td>\n",
       "      <td>10.31234/osf.io/q2tkw</td>\n",
       "      <td>0</td>\n",
       "      <td>['Psychology']</td>\n",
       "      <td>['2294049', '4421835', '3691024', '3376613']</td>\n",
       "    </tr>\n",
       "    <tr>\n",
       "      <th>1753</th>\n",
       "      <td>2250f3dde8786515473bc0b03280420ac10d8256</td>\n",
       "      <td>A sustainability assessment framework for geno...</td>\n",
       "      <td>0</td>\n",
       "      <td>10.1016/j.aquaculture.2022.738803</td>\n",
       "      <td>0</td>\n",
       "      <td>['Economics']</td>\n",
       "      <td>['2120789929', '4139040']</td>\n",
       "    </tr>\n",
       "    <tr>\n",
       "      <th>2439</th>\n",
       "      <td>37c960d56b5f3ef16c16883f48dac3179f05fd61</td>\n",
       "      <td>Review of \"The Weirdest People in the World\"</td>\n",
       "      <td>0</td>\n",
       "      <td>10.31219/osf.io/ufjya</td>\n",
       "      <td>1</td>\n",
       "      <td>['Psychology', 'Art']</td>\n",
       "      <td>['2352183']</td>\n",
       "    </tr>\n",
       "    <tr>\n",
       "      <th>11755</th>\n",
       "      <td>09ead28addb05e98c8adf1a58739d34e72eddd8c</td>\n",
       "      <td>Functional architecture of the aging brain</td>\n",
       "      <td>0</td>\n",
       "      <td>10.1101/2021.03.31.437922</td>\n",
       "      <td>5</td>\n",
       "      <td>['Psychology']</td>\n",
       "      <td>['6939215', '1404691578', '6589755', '8335807'...</td>\n",
       "    </tr>\n",
       "    <tr>\n",
       "      <th>13416</th>\n",
       "      <td>1fdb8fd4a54e8cc65d8c6c4bfe1d991a26817892</td>\n",
       "      <td>Introduction</td>\n",
       "      <td>0</td>\n",
       "      <td>10.4324/9781003041566-1</td>\n",
       "      <td>0</td>\n",
       "      <td>[]</td>\n",
       "      <td>['116605617', '30210596']</td>\n",
       "    </tr>\n",
       "    <tr>\n",
       "      <th>...</th>\n",
       "      <td>...</td>\n",
       "      <td>...</td>\n",
       "      <td>...</td>\n",
       "      <td>...</td>\n",
       "      <td>...</td>\n",
       "      <td>...</td>\n",
       "      <td>...</td>\n",
       "    </tr>\n",
       "    <tr>\n",
       "      <th>310368</th>\n",
       "      <td>2d0d7b40cded3f3bf3aa46d53cef64f44dd3e20d</td>\n",
       "      <td>Procapra Przewalskii Dataset Collecting from 7...</td>\n",
       "      <td>0</td>\n",
       "      <td>10.3974/geodb.2021.10.02.v1</td>\n",
       "      <td>0</td>\n",
       "      <td>['Environmental Science']</td>\n",
       "      <td>['2111280100', '153552141', '1962660', '898836...</td>\n",
       "    </tr>\n",
       "    <tr>\n",
       "      <th>310369</th>\n",
       "      <td>64a69a422e014139d1a377d7acabfaf298f79232</td>\n",
       "      <td>Waterfowl Habitat and Migration Dataset Collec...</td>\n",
       "      <td>0</td>\n",
       "      <td>10.3974/geodb.2021.10.01.v1</td>\n",
       "      <td>0</td>\n",
       "      <td>['Environmental Science']</td>\n",
       "      <td>['2111280100', '153552141', '1962660', '898836...</td>\n",
       "    </tr>\n",
       "    <tr>\n",
       "      <th>310370</th>\n",
       "      <td>8f61e6078db7d82db08ac658b5679c75f3e65afc</td>\n",
       "      <td>In situ Dataset on Vegetation from 28 Sample S...</td>\n",
       "      <td>0</td>\n",
       "      <td>10.3974/geodb.2021.10.04.v1</td>\n",
       "      <td>0</td>\n",
       "      <td>['Environmental Science']</td>\n",
       "      <td>['2115554316', '153552141', '89883663', '21112...</td>\n",
       "    </tr>\n",
       "    <tr>\n",
       "      <th>312641</th>\n",
       "      <td>a2ee6a61917fa6c08952ca4a6ca25b78e8a44093</td>\n",
       "      <td>Are media exposure and self-control related?</td>\n",
       "      <td>0</td>\n",
       "      <td>10.32920/ryerson.14648913.v1</td>\n",
       "      <td>0</td>\n",
       "      <td>['Psychology']</td>\n",
       "      <td>['152130182']</td>\n",
       "    </tr>\n",
       "    <tr>\n",
       "      <th>312843</th>\n",
       "      <td>1b6c519366b88268e6cce78e23c6b40f3c9a1b64</td>\n",
       "      <td>Flexible MXene-Ti3C2Tx bond few-layers transit...</td>\n",
       "      <td>0</td>\n",
       "      <td>10.1016/J.CEJ.2021.130960</td>\n",
       "      <td>8</td>\n",
       "      <td>['Materials Science', 'Chemistry']</td>\n",
       "      <td>['152251995', '47896751', '40536236', '1410290...</td>\n",
       "    </tr>\n",
       "  </tbody>\n",
       "</table>\n",
       "<p>152 rows × 7 columns</p>\n",
       "</div>"
      ],
      "text/plain": [
       "                                         paperId  \\\n",
       "517     18b329ac2e91458b0fed24103fb4d8b3a8b00548   \n",
       "1753    2250f3dde8786515473bc0b03280420ac10d8256   \n",
       "2439    37c960d56b5f3ef16c16883f48dac3179f05fd61   \n",
       "11755   09ead28addb05e98c8adf1a58739d34e72eddd8c   \n",
       "13416   1fdb8fd4a54e8cc65d8c6c4bfe1d991a26817892   \n",
       "...                                          ...   \n",
       "310368  2d0d7b40cded3f3bf3aa46d53cef64f44dd3e20d   \n",
       "310369  64a69a422e014139d1a377d7acabfaf298f79232   \n",
       "310370  8f61e6078db7d82db08ac658b5679c75f3e65afc   \n",
       "312641  a2ee6a61917fa6c08952ca4a6ca25b78e8a44093   \n",
       "312843  1b6c519366b88268e6cce78e23c6b40f3c9a1b64   \n",
       "\n",
       "                                                    title  year  \\\n",
       "517     quity and Fairness of Single- vs. Double-Blind...     0   \n",
       "1753    A sustainability assessment framework for geno...     0   \n",
       "2439         Review of \"The Weirdest People in the World\"     0   \n",
       "11755          Functional architecture of the aging brain     0   \n",
       "13416                                        Introduction     0   \n",
       "...                                                   ...   ...   \n",
       "310368  Procapra Przewalskii Dataset Collecting from 7...     0   \n",
       "310369  Waterfowl Habitat and Migration Dataset Collec...     0   \n",
       "310370  In situ Dataset on Vegetation from 28 Sample S...     0   \n",
       "312641       Are media exposure and self-control related?     0   \n",
       "312843  Flexible MXene-Ti3C2Tx bond few-layers transit...     0   \n",
       "\n",
       "                                      DOI  citationCount  \\\n",
       "517                 10.31234/osf.io/q2tkw              0   \n",
       "1753    10.1016/j.aquaculture.2022.738803              0   \n",
       "2439                10.31219/osf.io/ufjya              1   \n",
       "11755           10.1101/2021.03.31.437922              5   \n",
       "13416             10.4324/9781003041566-1              0   \n",
       "...                                   ...            ...   \n",
       "310368        10.3974/geodb.2021.10.02.v1              0   \n",
       "310369        10.3974/geodb.2021.10.01.v1              0   \n",
       "310370        10.3974/geodb.2021.10.04.v1              0   \n",
       "312641       10.32920/ryerson.14648913.v1              0   \n",
       "312843          10.1016/J.CEJ.2021.130960              8   \n",
       "\n",
       "                                    fields  \\\n",
       "517                         ['Psychology']   \n",
       "1753                         ['Economics']   \n",
       "2439                 ['Psychology', 'Art']   \n",
       "11755                       ['Psychology']   \n",
       "13416                                   []   \n",
       "...                                    ...   \n",
       "310368           ['Environmental Science']   \n",
       "310369           ['Environmental Science']   \n",
       "310370           ['Environmental Science']   \n",
       "312641                      ['Psychology']   \n",
       "312843  ['Materials Science', 'Chemistry']   \n",
       "\n",
       "                                                authorIds  \n",
       "517          ['2294049', '4421835', '3691024', '3376613']  \n",
       "1753                            ['2120789929', '4139040']  \n",
       "2439                                          ['2352183']  \n",
       "11755   ['6939215', '1404691578', '6589755', '8335807'...  \n",
       "13416                           ['116605617', '30210596']  \n",
       "...                                                   ...  \n",
       "310368  ['2111280100', '153552141', '1962660', '898836...  \n",
       "310369  ['2111280100', '153552141', '1962660', '898836...  \n",
       "310370  ['2115554316', '153552141', '89883663', '21112...  \n",
       "312641                                      ['152130182']  \n",
       "312843  ['152251995', '47896751', '40536236', '1410290...  \n",
       "\n",
       "[152 rows x 7 columns]"
      ]
     },
     "execution_count": 621,
     "metadata": {},
     "output_type": "execute_result"
    }
   ],
   "source": [
    "pdf[pdf['year'] == 0]"
   ]
  },
  {
   "cell_type": "code",
   "execution_count": 625,
   "id": "b2079db9",
   "metadata": {},
   "outputs": [],
   "source": [
    "abdf = pd.DataFrame(abstract_data, columns=abstract_data.keys())\n",
    "abdf.head()\n",
    "abdf.to_csv('abstract_df.csv', index=False)"
   ]
  }
 ],
 "metadata": {
  "kernelspec": {
   "display_name": "compsci",
   "language": "python",
   "name": "python3"
  },
  "language_info": {
   "codemirror_mode": {
    "name": "ipython",
    "version": 3
   },
   "file_extension": ".py",
   "mimetype": "text/x-python",
   "name": "python",
   "nbconvert_exporter": "python",
   "pygments_lexer": "ipython3",
   "version": "3.9.16"
  },
  "vscode": {
   "interpreter": {
    "hash": "39ec2c5dc35b285f53b68302ee57033e6dc35325dc3fd8d680c0ffb4018a1e0a"
   }
  }
 },
 "nbformat": 4,
 "nbformat_minor": 5
}
