{
 "cells": [
  {
   "cell_type": "markdown",
   "metadata": {},
   "source": [
    "# Assignment 2"
   ]
  },
  {
   "cell_type": "markdown",
   "metadata": {},
   "source": [
    "# Formalia:\n",
    "\n",
    "Please read the [assignment overview page](https://laura.alessandretti.com/comsocsci2023/assignments.html) carefully before proceeding. This page contains information about formatting (including formats etc), group sizes, and many other aspects of handing in the assignment. \n",
    "\n",
    "_If you fail to follow these simple instructions, it will negatively impact your grade!_\n",
    "\n",
    "**Due date and time**: The assignment is due on Mar 28th at 23:59. Hand in your Jupyter notebook file (with extension `.ipynb`) via DTU Learn _(Assignment, Assignment 2)_. \n",
    "\n",
    "Remember to include in the first cell of your notebook:\n",
    "* the link to your group's Git repository (if you don't have a shared Git repository, it's fine. Remember to do it next time)\n",
    "* group members' contributions"
   ]
  },
  {
   "cell_type": "markdown",
   "metadata": {},
   "source": [
    "# Part 1: Mixing Patterns and Assortativity\n",
    "\n",
    "Let's dig in and try to understand more about the network of Computational Social Scientists using more advanced features. If your network has more than one component, just work on the giant connected component (GCC) in the exercises below. For the exercises below, you shall use the network you built in [Week 4](https://github.com/lalessan/comsocsci2023/blob/main/lectures/Week4.ipynb).\n",
    "\n",
    "\n",
    "> **Exercise 1: Mixing Patterns and Assortativity.** \n",
    ">\n",
    "> * For each node, compute the fraction of edges that connect to a node that works in the same top field. Find the average value across all nodes.\n",
    "> * Create a new graph, with the same nodes and edges, but where the association between nodes and field is shuffled. Compute the measure above for this randomized graph.\n",
    "> * Repeat the point above 100 times (at least). Plot the distribution of the values obtained and compare it with the value you have found for the real graph. Is the chance to connect to a member of the same field significantly higher than it would be by chance?\n",
    "> * Compute the assortativity coefficient with respect to author's field. How do you interpret the value you obtain? (__Hint__: See [this paper](https://nbviewer.org/github/suneman/socialgraphs2019/blob/master/lectures/Week5.ipynb), eq (2)). **Important**: here I do not want you to use the NetworkX implementation, but rather to implement your own version of the measure.    \n",
    "> * Is the graph assortative with respect to the degree? (e.g. do high-degree scientists tend to link to other high-degree scientists, and low-degree scientists to other low-degree scientists?). Provide an interpretation of your answer.\n",
    "> * _Optional:_ Estimate the gender of each author from their name, using the [World Gender Name Dictionary](https://dataverse.harvard.edu/dataset.xhtml?persistentId=doi:10.7910/DVN/MSEGSJ). Repeat the analysis above to study the assortativity of the network by gender rather than by field. What do you observe?\n"
   ]
  },
  {
   "attachments": {},
   "cell_type": "markdown",
   "metadata": {},
   "source": [
    "First, we do some imports and load the network into the NB."
   ]
  },
  {
   "cell_type": "code",
   "execution_count": 105,
   "metadata": {},
   "outputs": [],
   "source": [
    "import pickle\n",
    "import numpy as np\n",
    "import pandas as pd\n",
    "import matplotlib.pyplot as plt\n",
    "import networkx as nx\n",
    "import netwulf as nw\n",
    "import scipy as sp\n",
    "\n",
    "# Load the data\n",
    "with open('CSS_field.pkl', 'rb') as f:\n",
    "    G = pickle.load(f)\n"
   ]
  },
  {
   "cell_type": "code",
   "execution_count": 106,
   "metadata": {},
   "outputs": [
    {
     "name": "stdout",
     "output_type": "stream",
     "text": [
      "The ratio of unknown fields is 5.36%\n"
     ]
    }
   ],
   "source": [
    "# Note, that due to some issues then building the graph, some of the fields are set to \"unknown\"\n",
    "# We can find the ratio of unknown fields by counting the number of nodes with the field \"unknown\"\n",
    "graph_fields = nx.get_node_attributes(G, \"field\")\n",
    "ratio = sum(np.array(list(graph_fields.values())) == 'unknown')/len(list(graph_fields.values())) * 100\n",
    "print(f\"The ratio of unknown fields is {ratio:.2f}%\")"
   ]
  },
  {
   "cell_type": "code",
   "execution_count": 107,
   "metadata": {},
   "outputs": [],
   "source": [
    "# We will quickly remove the unknown fields from the graph\n",
    "G.remove_nodes_from([node for node, field in graph_fields.items() if field == 'unknown'])"
   ]
  },
  {
   "attachments": {},
   "cell_type": "markdown",
   "metadata": {},
   "source": [
    "Now, there are no nodes left with the \"Unknown\" field."
   ]
  },
  {
   "attachments": {},
   "cell_type": "markdown",
   "metadata": {},
   "source": [
    "> * For each node, compute the fraction of edges that connect to a node that works in the same top field. Find the average value across all nodes."
   ]
  },
  {
   "cell_type": "code",
   "execution_count": 108,
   "metadata": {},
   "outputs": [],
   "source": [
    "# First, we implement two functions\n",
    "def calc_frac(graph, fields):\n",
    "    \"\"\" Calculate the fraction of neighbors with the same field as the node itself.\"\"\"\n",
    "    fracs = []\n",
    "    for node in graph.nodes:\n",
    "        c = 0\n",
    "        for neighbor in G.neighbors(node):\n",
    "            if fields[neighbor] == fields[node]:\n",
    "                c += 1\n",
    "        fracs.append(c/G.degree(node))\n",
    "\n",
    "    return np.mean(fracs)\n",
    "\n",
    "def frac_same_field(graph):\n",
    "    fields = nx.get_node_attributes(graph, 'field')\n",
    "    return calc_frac(graph, fields)\n"
   ]
  },
  {
   "cell_type": "code",
   "execution_count": 109,
   "metadata": {},
   "outputs": [
    {
     "data": {
      "text/plain": [
       "0.6907467838027441"
      ]
     },
     "execution_count": 109,
     "metadata": {},
     "output_type": "execute_result"
    }
   ],
   "source": [
    "# We can now calculate the fraction of neighbors with the same field as the node itself\n",
    "avg = frac_same_field(G)\n",
    "avg"
   ]
  },
  {
   "attachments": {},
   "cell_type": "markdown",
   "metadata": {},
   "source": [
    "Hence, we find that for the average node, ~69,1% of its connections has the same top field as the node itself."
   ]
  },
  {
   "attachments": {},
   "cell_type": "markdown",
   "metadata": {},
   "source": [
    "> * Create a new graph, with the same nodes and edges, but where the association between nodes and field is shuffled. Compute the measure above for this randomized graph."
   ]
  },
  {
   "cell_type": "code",
   "execution_count": 110,
   "metadata": {},
   "outputs": [],
   "source": [
    "import random\n",
    "random.seed(42)\n",
    "\n",
    "# We implment a function that randomly assigns fields to nodes\n",
    "def frac_rand_graph(graph):\n",
    "    fields = nx.get_node_attributes(graph, 'field')\n",
    "    field_list = list(fields.values())\n",
    "    for key in fields.keys():\n",
    "        fields[key] = random.choice(field_list)\n",
    "\n",
    "    return calc_frac(graph, fields)"
   ]
  },
  {
   "cell_type": "code",
   "execution_count": 111,
   "metadata": {},
   "outputs": [
    {
     "data": {
      "text/plain": [
       "0.14089741847706364"
      ]
     },
     "execution_count": 111,
     "metadata": {},
     "output_type": "execute_result"
    }
   ],
   "source": [
    "avg_rand = frac_rand_graph(G)\n",
    "avg_rand"
   ]
  },
  {
   "attachments": {},
   "cell_type": "markdown",
   "metadata": {},
   "source": [
    "Now, only ~14,1% of an average node's neighbours share the same top field. This is a lot lower than before random shuffling."
   ]
  },
  {
   "attachments": {},
   "cell_type": "markdown",
   "metadata": {},
   "source": [
    "> * Repeat the point above 100 times (at least). Plot the distribution of the values obtained and compare it with the value you have found for the real graph. Is the chance to connect to a member of the same field significantly higher than it would be by chance?"
   ]
  },
  {
   "cell_type": "code",
   "execution_count": 112,
   "metadata": {},
   "outputs": [],
   "source": [
    "# We do it a hundred times and calculate the average\n",
    "fracs_rand_100 = [np.mean(frac_rand_graph(G)) for _ in range(100)]"
   ]
  },
  {
   "cell_type": "code",
   "execution_count": 113,
   "metadata": {},
   "outputs": [
    {
     "data": {
      "text/plain": [
       "0.1405890044339139"
      ]
     },
     "execution_count": 113,
     "metadata": {},
     "output_type": "execute_result"
    }
   ],
   "source": [
    "np.mean(fracs_rand_100)"
   ]
  },
  {
   "cell_type": "code",
   "execution_count": 114,
   "metadata": {},
   "outputs": [
    {
     "data": {
      "image/png": "[encoded data removed]",
      "text/plain": [
       "<Figure size 1200x400 with 2 Axes>"
      ]
     },
     "metadata": {},
     "output_type": "display_data"
    },
    {
     "data": {
      "text/plain": [
       "<Figure size 640x480 with 0 Axes>"
      ]
     },
     "metadata": {},
     "output_type": "display_data"
    }
   ],
   "source": [
    "import seaborn as sns\n",
    "# Make a subplot\n",
    "fig, ax = plt.subplots(1, 2, figsize=(12, 4))\n",
    "plt.figure()\n",
    "sns.histplot(fracs_rand_100, bins=10, stat='count', label='Random', kde=True, ax=ax[0])\n",
    "# Add name to x axis\n",
    "ax[0].set_xlabel('Fraction of neighbors with same field')\n",
    "sns.histplot(fracs_rand_100, bins=10, stat='count', label='Random', kde=True, ax=ax[1])\n",
    "ax[1].axvline(avg, color='red', label='Original')\n",
    "ax[1].set_xlabel('Fraction of neighbors with same field')\n",
    "plt.show()"
   ]
  },
  {
   "attachments": {},
   "cell_type": "markdown",
   "metadata": {},
   "source": [
    "In the left plot, we plot the distribution of the ratios for the random graph. In the right plot, we compare this distribution to the ratio from the original graph.\n",
    "\n",
    "Evidently, the ditribution is centered around the mean of ~14,06% which is still many times smaller than before shuffling.\n",
    "Hence, the chance to be connected to a member of the same top field is significantly higher than by chance."
   ]
  },
  {
   "attachments": {},
   "cell_type": "markdown",
   "metadata": {},
   "source": [
    "> * Compute the assortativity coefficient with respect to author's field. How do you interpret the value you obtain? (__Hint__: See [this paper](https://nbviewer.org/github/suneman/socialgraphs2019/blob/master/lectures/Week5.ipynb), eq (2)). **Important**: here I do not want you to use the NetworkX implementation, but rather to implement your own version of the measure.   "
   ]
  },
  {
   "cell_type": "code",
   "execution_count": 115,
   "metadata": {},
   "outputs": [],
   "source": [
    "# First calculate the assortivity matrix (not in percentage yet)\n",
    "def matrix_assort(graph):\n",
    "    \"\"\"Returns a nested dictionary\"\"\"\n",
    "    all_fields = nx.get_node_attributes(graph, 'field')\n",
    "\n",
    "    unique_fields = set(list(all_fields.values()))\n",
    "    ass_mat = {key: [] for key in unique_fields}\n",
    "\n",
    "    #For each node append its neighbours field according to the nodes field\n",
    "    for node in G.nodes:\n",
    "        field = all_fields[node]\n",
    "        for neighbour in G.neighbors(node):\n",
    "            ass_mat[field].append(all_fields[neighbour])\n",
    "\n",
    "    # For each of the fields, count the occurances of the other fields being a neighbour\n",
    "    for felt in unique_fields:\n",
    "        list_count = []\n",
    "        for inner_field in unique_fields:\n",
    "            list_count.append(ass_mat[felt].count(inner_field))\n",
    "        ass_mat[felt] = dict(zip(list(unique_fields), list_count))\n",
    "    \n",
    "    return ass_mat\n",
    "\n",
    "# Then calculate the assortativity coefficient\n",
    "def assortativity_coefficient(graph):\n",
    "    ass_mat = matrix_assort(graph)\n",
    "    dfMatrix = pd.DataFrame.from_dict(ass_mat) / pd.DataFrame.from_dict(ass_mat).sum().sum() # to percent / divide by total number nodes\n",
    "    M = np.array(dfMatrix)\n",
    "    coef = (np.trace(M) - np.sum(M.sum(axis=0)**2))/(1- np.sum(M.sum(axis=0)**2))\n",
    "    return coef"
   ]
  },
  {
   "cell_type": "code",
   "execution_count": 116,
   "metadata": {},
   "outputs": [
    {
     "name": "stdout",
     "output_type": "stream",
     "text": [
      "Assortativity Coefficient for Graph: 0.81\n"
     ]
    }
   ],
   "source": [
    "own_assort = assortativity_coefficient(G)\n",
    "print(f'Assortativity Coefficient for Graph: {own_assort:.2f}')"
   ]
  },
  {
   "cell_type": "code",
   "execution_count": 117,
   "metadata": {},
   "outputs": [
    {
     "name": "stdout",
     "output_type": "stream",
     "text": [
      "Assortativity Coefficient for Graph: 0.81\n"
     ]
    }
   ],
   "source": [
    "# To sanity, we will use the networkx function to calculate the assortativity coefficient\n",
    "assort = nx.attribute_assortativity_coefficient(G, attribute='field')\n",
    "print(f'Assortativity Coefficient for Graph: {assort:.2f}')"
   ]
  },
  {
   "attachments": {},
   "cell_type": "markdown",
   "metadata": {},
   "source": [
    "This is evidently the same as the one found above.\n",
    "\n",
    "Judging from the attribute assortativity coefficient above, we find that the network is highly assortative w.r.t. the attribute \"field\". Thus, authors with the same field are very often connected to authors with the same top field."
   ]
  },
  {
   "attachments": {},
   "cell_type": "markdown",
   "metadata": {},
   "source": [
    "> * Is the graph assortative with respect to the degree? (e.g. do high-degree scientists tend to link to other high-degree scientists, and low-degree scientists to other low-degree scientists?). Provide an interpretation of your answer."
   ]
  },
  {
   "cell_type": "code",
   "execution_count": 119,
   "metadata": {},
   "outputs": [],
   "source": [
    "# Now we will calculate the degree correlation coefficient\n",
    "\n",
    "def node_degrees(graph):\n",
    "    \"\"\"Returns a list of tuples with the node and its degree\"\"\"\n",
    "    nodes = set(graph)\n",
    "\n",
    "    x_deg = y_deg = graph.degree()\n",
    "\n",
    "    l1, l2 = [], []\n",
    "\n",
    "    for u, deg_u in x_deg(nodes):\n",
    "        neighbours = (neighbour for _, neighbour in G.edges(u) if neighbour in nodes)\n",
    "        for _, deg_v in y_deg(neighbours):\n",
    "            \n",
    "            l1.append(deg_u)\n",
    "            l2.append(deg_v)\n",
    "\n",
    "    return l1, l2\n",
    "\n",
    "def degree_coef(graph):\n",
    "    \"\"\"Returns the degree pearson correlation coefficient\"\"\"\n",
    "    x, y = node_degrees(graph)\n",
    "    return sp.stats.pearsonr(x, y)[0]"
   ]
  },
  {
   "cell_type": "code",
   "execution_count": 122,
   "metadata": {},
   "outputs": [
    {
     "name": "stdout",
     "output_type": "stream",
     "text": [
      "Degree correlation coefficient: 0.92\n"
     ]
    }
   ],
   "source": [
    "r = degree_coef(G)\n",
    "print(f'Degree correlation coefficient: {r:.2f}')"
   ]
  },
  {
   "cell_type": "code",
   "execution_count": 121,
   "metadata": {},
   "outputs": [
    {
     "name": "stdout",
     "output_type": "stream",
     "text": [
      "Degree correlation coefficient: 0.92\n"
     ]
    }
   ],
   "source": [
    "# Sanity check\n",
    "r_nx = nx.degree_pearson_correlation_coefficient(G)\n",
    "print(f'Degree correlation coefficient: {r_nx:.2f}')"
   ]
  },
  {
   "attachments": {},
   "cell_type": "markdown",
   "metadata": {},
   "source": [
    "Sanity check is good.\n",
    "\n",
    "What we find is that high-degree scientists are often connected to other high-degree scientist (and vice-versa). \n",
    "\n",
    "To summarise, we find that scientist are both very likely to be connected to other scientist of the same field and with the same number of connections themselves."
   ]
  },
  {
   "cell_type": "markdown",
   "metadata": {},
   "source": [
    "# Part 2: Communities\n",
    "\n",
    "> __Exercise 2: Zachary's karate club__: In this exercise, we will work on Zarachy's karate club graph (refer to the Introduction of Chapter 9). The dataset is available in NetworkX, by calling the function [karate_club_graph](https://networkx.org/documentation/stable//auto_examples/graph/plot_karate_club.html) \n",
    ">\n",
    "> 1. Visualize the graph using [netwulf](https://netwulf.readthedocs.io/en/latest/). Set the color of each node based on the club split (the information is stored as a node attribute). My version of the visualization is below.\n",
    ">\n",
    "> 2. Write a function to compute the __modularity__ of a graph partitioning (use **equation 9.12** in the book). The function should take a networkX Graph and a partitioning as inputs and return the modularity.\n",
    "> 3. Explain in your own words the concept of _modularity_. \n",
    "> 4. Compute the modularity of the Karate club split partitioning using the function you just wrote. Note: the Karate club split partitioning is avilable as a [node attribute](https://networkx.org/documentation/networkx-1.10/reference/generated/networkx.classes.function.get_node_attributes.html), called _\"club\"_.\n",
    "> 5. We will now perform a small randomization experiment to assess if the modularity you just computed is statitically different from $0$. To do so, we will implement the _double edge swap_ algorithm. The _double edge swap_ algorithm is quite old... it was implemented in 1891 (!) by Danish mathematician Julius Petersen(https://en.wikipedia.org/wiki/Julius_Petersen). Given a network G, this algorithm creates a new network, such that each node has exactly the same degree as in the original network, but different connections. Here is how the algorithm works.\n",
    ">       * __a.__ Create an identical copy of your original network.\n",
    ">       * __b.__ Consider two edges in your new network (u,v) and (x,y), such that u!=v and v!=x.\n",
    ">       * __c.__ If none of edges (u,y) and (x,v) exists already, add them to the network and remove edges (u,v) and (x,y).\n",
    ">       * Repeat steps __b.__ and __c.__ to achieve at least N swaps (I suggest N to be larger than the number of edges).\n",
    "> 6. Double check that your algorithm works well, by showing that the degree of nodes in the original network and the new 'randomized' version of the network are the same.\n",
    "> 7. Create $1000$ randomized version of the Karate Club network using the _double edge swap_ algorithm you wrote in step 5. For each of them, compute the modularity of the \"club\" split and store it in a list.\n",
    "> 8. Compute the average and standard deviation of the modularity for the random network.\n",
    "> 9. Plot the distribution of the \"random\" modularity. Plot the actual modularity of the club split as a vertical line (use [axvline](https://matplotlib.org/stable/api/_as_gen/matplotlib.pyplot.axvline.html)). \n",
    "> 10. Comment on the figure. Is the club split a good partitioning? Why do you think I asked you to perform a randomization experiment? What is the reason why we preserved the nodes degree?\n",
    "> 11.  Use [the Python Louvain-algorithm implementation](https://anaconda.org/auto/python-louvain) to find communities in this graph. Report the value of modularity found by the algorithm. Is it higher or lower than what you found above for the club split? What does this comparison reveal?\n",
    "> 12.  Compare the communities found by the Louvain algorithm with the club split partitioning by creating a matrix **_D_** with dimension (2 times _A_), where _A_ is the number of communities found by Louvain. We set entry _D_(_i_,_j_) to be the number of nodes that community _i_ has in common with group split _j_. The matrix **_D_** is what we call a [**confusion matrix**](https://en.wikipedia.org/wiki/Confusion_matrix). Use the confusion matrix to explain how well the communities you've detected correspond to the club split partitioning."
   ]
  },
  {
   "cell_type": "markdown",
   "metadata": {},
   "source": [
    "> __Exercise 3__: Community detection on the network of Computational Social Scientists. \n",
    ">\n",
    "> * Consider the network you built in [Week 4](https://github.com/lalessan/comsocsci2023/blob/main/lectures/Week4.ipynb).\n",
    "> * Use [the Python Louvain-algorithm implementation](https://anaconda.org/auto/python-louvain) to find communities. How many communities do you find? What are their sizes? Report the value of modularity found by the algorithm. Is the modularity significantly different than 0? \n",
    "> * If you are curious, you can also try the *Infomap* algorithm. Go to [this page]. (https://mapequation.github.io/infomap/python/). It's harder to install, but a better community detection algorithm. You can read about it in [advanced topics 9B](http://networksciencebook.com/chapter/9#advanced-9b).\n",
    "> * Visualize the network, using netwulf (see Week 5). This time assign each node a different color based on their _community_. Describe the structure you observe.\n",
    "> * Make sure you save the assignment of authors to communities.\n"
   ]
  },
  {
   "cell_type": "markdown",
   "metadata": {},
   "source": [
    "# Part 3: TF-IDF.\n",
    "\n",
    "\n",
    "> __Exercise 4: TF-IDF and the Computational Social Science communities.__ The goal for this exercise is to find the words charachterizing each of the communities of Computational Social Scientists.\n",
    "> What you ned for this exercise: \n",
    ">    * The assignment of each author to their network community, and the degree of each author (Week 6, Exercise 4). This can be stored in a dataframe or in two dictionaries, as you prefer.  \n",
    ">    * the tokenized _abstract_ dataframe (Week 7, Exercise 2)\n",
    ">\n",
    "> 1. First, check out [the wikipedia page for TF-IDF](https://en.wikipedia.org/wiki/Tf%E2%80%93idf). Explain in your own words the point of TF-IDF. \n",
    ">   * What does TF stand for? \n",
    ">   * What does IDF stand for?\n",
    "> 2. Now, we want to find out which words are important for each *community*, so we're going to create several ***large documents, one for each community***. Each document includes all the tokens of abstracts written by members of a given community. \n",
    ">   * Consider a community _c_\n",
    ">   * Find all the abstracts of papers written by a member of community _c_.\n",
    ">   * Create a long array that stores all the abstract tokens \n",
    ">   * Repeat for all the communities. \n",
    "> __Note:__ Here, to ensure your code is efficient, you shall exploit ``pandas`` builtin functions, such as [``groupby.apply``](https://pandas.pydata.org/docs/reference/api/pandas.core.groupby.GroupBy.apply.html) or [``explode``](https://pandas.pydata.org/docs/reference/api/pandas.DataFrame.explode.html).\n",
    "> 3. Now, we're ready to calculate the TF for each word. Use the method of your choice to find the top 5 terms within the __top 5 communities__ (by number of authors). \n",
    ">   * Describe similarities and differences between the communities.\n",
    ">   * Why aren't the TFs not necessarily a good description of the communities?\n",
    ">   * Next, we calculate IDF for every word. \n",
    ">   * What base logarithm did you use? Is that important?\n",
    "> 4. We're ready to calculate TF-IDF. Do that for the __top 9 communities__ (by number of authors). Then for each community: \n",
    ">   * List the 10 top TF words \n",
    ">   * List the 10 top TF-IDF words\n",
    ">   * List the top 3 authors (by degree)\n",
    ">   * Are these 10 words more descriptive of the community? If yes, what is it about IDF that makes the words more informative?\n"
   ]
  },
  {
   "cell_type": "markdown",
   "metadata": {},
   "source": [
    "> __Exercise 5: The Wordcloud__. It's time to visualize our results!\n",
    "> * Install the [`WordCloud`](https://pypi.org/project/wordcloud/) module. \n",
    "> * Now, create word-cloud for each community. Feel free to make it as fancy or non-fancy as you like.\n",
    "> * Make sure that, together with the word cloud, you print the names of the top three authors in each community (see my plot above for inspiration). \n",
    "> * Comment on your results. What can you conclude on the different sub-communities in Computational Social Science? \n",
    "> * Look up online the top author in each community. In light of your search, do your results make sense?"
   ]
  },
  {
   "cell_type": "code",
   "execution_count": null,
   "metadata": {},
   "outputs": [],
   "source": []
  }
 ],
 "metadata": {
  "kernelspec": {
   "display_name": "Python 3 (ipykernel)",
   "language": "python",
   "name": "python3"
  },
  "language_info": {
   "codemirror_mode": {
    "name": "ipython",
    "version": 3
   },
   "file_extension": ".py",
   "mimetype": "text/x-python",
   "name": "python",
   "nbconvert_exporter": "python",
   "pygments_lexer": "ipython3",
   "version": "3.9.16"
  },
  "vscode": {
   "interpreter": {
    "hash": "5c7b89af1651d0b8571dde13640ecdccf7d5a6204171d6ab33e7c296e100e08a"
   }
  }
 },
 "nbformat": 4,
 "nbformat_minor": 2
}
